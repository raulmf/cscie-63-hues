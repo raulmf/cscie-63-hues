{
 "cells": [
  {
   "cell_type": "markdown",
   "metadata": {
    "deletable": true,
    "editable": true
   },
   "source": [
    "# Problem1"
   ]
  },
  {
   "cell_type": "markdown",
   "metadata": {
    "deletable": true,
    "editable": true
   },
   "source": [
    "Import Gutenberg corpus and list included books"
   ]
  },
  {
   "cell_type": "code",
   "execution_count": 47,
   "metadata": {
    "collapsed": false,
    "deletable": true,
    "editable": true
   },
   "outputs": [
    {
     "name": "stdout",
     "output_type": "stream",
     "text": [
      "austen-emma.txt\n",
      "austen-persuasion.txt\n",
      "austen-sense.txt\n",
      "bible-kjv.txt\n",
      "blake-poems.txt\n",
      "bryant-stories.txt\n",
      "burgess-busterbrown.txt\n",
      "carroll-alice.txt\n",
      "chesterton-ball.txt\n",
      "chesterton-brown.txt\n",
      "chesterton-thursday.txt\n",
      "edgeworth-parents.txt\n",
      "melville-moby_dick.txt\n",
      "milton-paradise.txt\n",
      "shakespeare-caesar.txt\n",
      "shakespeare-hamlet.txt\n",
      "shakespeare-macbeth.txt\n",
      "whitman-leaves.txt\n"
     ]
    }
   ],
   "source": [
    "from nltk.corpus import gutenberg\n",
    "fileids = gutenberg.fileids()\n",
    "for f in fileids:\n",
    "    print f"
   ]
  },
  {
   "cell_type": "markdown",
   "metadata": {
    "deletable": true,
    "editable": true
   },
   "source": [
    "Calculate relative frequency for a list of modals verbs. Frequency is presented as % of total words on each text. Consider lower uppercase forms as same word"
   ]
  },
  {
   "cell_type": "code",
   "execution_count": 48,
   "metadata": {
    "collapsed": false,
    "deletable": true,
    "editable": true
   },
   "outputs": [
    {
     "name": "stdout",
     "output_type": "stream",
     "text": [
      "                     book\tcan\tcould\tmay\tmight\twill\twould\tshould\n",
      "---------------------------------------------------------------------------------------\n",
      "          austen-emma.txt\t0.15\t0.43\t0.11\t0.17\t0.3\t0.43\t0.19\n",
      "    austen-persuasion.txt\t0.11\t0.46\t0.09\t0.17\t0.17\t0.36\t0.19\n",
      "         austen-sense.txt\t0.15\t0.41\t0.12\t0.15\t0.26\t0.36\t0.17\n",
      "            bible-kjv.txt\t0.02\t0.02\t0.1\t0.05\t0.38\t0.04\t0.08\n",
      "          blake-poems.txt\t0.34\t0.07\t0.07\t0.02\t0.04\t0.06\t0.07\n",
      "       bryant-stories.txt\t0.14\t0.28\t0.04\t0.04\t0.26\t0.2\t0.07\n",
      "  burgess-busterbrown.txt\t0.13\t0.3\t0.02\t0.09\t0.11\t0.24\t0.07\n",
      "        carroll-alice.txt\t0.18\t0.23\t0.04\t0.08\t0.1\t0.24\t0.08\n",
      "      chesterton-ball.txt\t0.15\t0.12\t0.1\t0.07\t0.21\t0.14\t0.08\n",
      "     chesterton-brown.txt\t0.15\t0.2\t0.06\t0.08\t0.14\t0.16\t0.07\n",
      "  chesterton-thursday.txt\t0.18\t0.22\t0.09\t0.11\t0.18\t0.17\t0.08\n",
      "    edgeworth-parents.txt\t0.17\t0.2\t0.09\t0.06\t0.26\t0.24\t0.13\n",
      "   melville-moby_dick.txt\t0.09\t0.08\t0.09\t0.07\t0.15\t0.17\t0.07\n",
      "      milton-paradise.txt\t0.13\t0.07\t0.13\t0.11\t0.19\t0.06\t0.07\n",
      "   shakespeare-caesar.txt\t0.07\t0.07\t0.15\t0.05\t0.63\t0.17\t0.16\n",
      "   shakespeare-hamlet.txt\t0.09\t0.08\t0.17\t0.08\t0.4\t0.2\t0.15\n",
      "  shakespeare-macbeth.txt\t0.11\t0.07\t0.15\t0.03\t0.31\t0.23\t0.18\n",
      "       whitman-leaves.txt\t0.06\t0.03\t0.06\t0.02\t0.18\t0.06\t0.03\n"
     ]
    }
   ],
   "source": [
    "from nltk.probability import FreqDist\n",
    "modals = ['can', 'could', 'may', 'might', 'will', 'would', 'should']\n",
    "\n",
    "print \"                     book\\tcan\\tcould\\tmay\\tmight\\twill\\twould\\tshould\"\n",
    "print \"---------------------------------------------------------------------------------------\"\n",
    "for f in gutenberg.fileids():\n",
    "    fdist = FreqDist([w.lower() for w in gutenberg.words(f)])\n",
    "    values=\"\"\n",
    "    for m in modals:\n",
    "        values = values + \"\\t\" + str(round(fdist.freq(m)*100,2))\n",
    "    print \"%25s\" %f + values\n",
    "    "
   ]
  },
  {
   "cell_type": "markdown",
   "metadata": {
    "deletable": true,
    "editable": true
   },
   "source": [
    "Added a new column that points out the most used modal on each text. Another column for the least used"
   ]
  },
  {
   "cell_type": "code",
   "execution_count": 49,
   "metadata": {
    "collapsed": false,
    "deletable": true,
    "editable": true
   },
   "outputs": [
    {
     "name": "stdout",
     "output_type": "stream",
     "text": [
      "                     book\tcan\tcould\tmay\tmight\twill\twould\tshould\t most freq\t least freq\n",
      "--------------------------------------------------------------------------------------------------------------------\n",
      "          austen-emma.txt\t0.15\t0.43\t0.11\t0.17\t0.3\t0.43\t0.19\t     could       may\n",
      "    austen-persuasion.txt\t0.11\t0.46\t0.09\t0.17\t0.17\t0.36\t0.19\t     could       may\n",
      "         austen-sense.txt\t0.15\t0.41\t0.12\t0.15\t0.26\t0.36\t0.17\t     could       may\n",
      "            bible-kjv.txt\t0.02\t0.02\t0.1\t0.05\t0.38\t0.04\t0.08\t      will     could\n",
      "          blake-poems.txt\t0.34\t0.07\t0.07\t0.02\t0.04\t0.06\t0.07\t       can     might\n",
      "       bryant-stories.txt\t0.14\t0.28\t0.04\t0.04\t0.26\t0.2\t0.07\t     could       may\n",
      "  burgess-busterbrown.txt\t0.13\t0.3\t0.02\t0.09\t0.11\t0.24\t0.07\t     could       may\n",
      "        carroll-alice.txt\t0.18\t0.23\t0.04\t0.08\t0.1\t0.24\t0.08\t     would       may\n",
      "      chesterton-ball.txt\t0.15\t0.12\t0.1\t0.07\t0.21\t0.14\t0.08\t      will     might\n",
      "     chesterton-brown.txt\t0.15\t0.2\t0.06\t0.08\t0.14\t0.16\t0.07\t     could       may\n",
      "  chesterton-thursday.txt\t0.18\t0.22\t0.09\t0.11\t0.18\t0.17\t0.08\t     could    should\n",
      "    edgeworth-parents.txt\t0.17\t0.2\t0.09\t0.06\t0.26\t0.24\t0.13\t      will     might\n",
      "   melville-moby_dick.txt\t0.09\t0.08\t0.09\t0.07\t0.15\t0.17\t0.07\t     would     might\n",
      "      milton-paradise.txt\t0.13\t0.07\t0.13\t0.11\t0.19\t0.06\t0.07\t      will     would\n",
      "   shakespeare-caesar.txt\t0.07\t0.07\t0.15\t0.05\t0.63\t0.17\t0.16\t      will     might\n",
      "   shakespeare-hamlet.txt\t0.09\t0.08\t0.17\t0.08\t0.4\t0.2\t0.15\t      will     might\n",
      "  shakespeare-macbeth.txt\t0.11\t0.07\t0.15\t0.03\t0.31\t0.23\t0.18\t      will     might\n",
      "       whitman-leaves.txt\t0.06\t0.03\t0.06\t0.02\t0.18\t0.06\t0.03\t      will     might\n"
     ]
    }
   ],
   "source": [
    "from nltk.probability import FreqDist\n",
    "modals = ['can', 'could', 'may', 'might', 'will', 'would', 'should']\n",
    "\n",
    "print \"                     book\\tcan\\tcould\\tmay\\tmight\\twill\\twould\\tshould\\t most freq\\t least freq\"\n",
    "print \"--------------------------------------------------------------------------------------------------------------------\"\n",
    "for f in gutenberg.fileids():\n",
    "    fdist = FreqDist([w.lower() for w in gutenberg.words(f)])\n",
    "    values=\"\"\n",
    "    mostFreq = 0.00\n",
    "    leastFreq = 1.00\n",
    "    for m in modals:\n",
    "        freqDist= fdist.freq(m)\n",
    "        if mostFreq < freqDist:\n",
    "            mostFreq = freqDist\n",
    "            mostModal = m\n",
    "        if leastFreq > freqDist:\n",
    "            leastFreq = freqDist\n",
    "            leastModal = m\n",
    "            \n",
    "        values = values + \"\\t\" + str(round(fdist.freq(m)*100,2))\n",
    "    print \"%25s\" %f + values + \"\\t\" + \"%10s\" %mostModal + \"%10s\" %leastModal"
   ]
  },
  {
   "cell_type": "markdown",
   "metadata": {
    "deletable": true,
    "editable": true
   },
   "source": [
    "The 2 first texts have the largest frequency for could out of all modals in all texts. I will be using those 2 texts austen-emma.txt and austen-persuasion.txt with could"
   ]
  },
  {
   "cell_type": "code",
   "execution_count": 50,
   "metadata": {
    "collapsed": false,
    "deletable": true,
    "editable": true
   },
   "outputs": [
    {
     "name": "stdout",
     "output_type": "stream",
     "text": [
      "Displaying 25 of 837 matches:\n",
      "ry scheme of hers -- one to whom she could speak every thought as it arose , an\n",
      "who had such an affection for her as could never find fault . How was she to be\n",
      "but he was no companion for her . He could not meet her in conversation , ratio\n",
      "and his amiable temper , his talents could not have recommended him at any time\n",
      "y civil , but not one among them who could be accepted in lieu of Miss Taylor f\n",
      "t was a melancholy change ; and Emma could not but sigh over it , and wish for \n",
      " his own daughter ' s marrying , nor could ever speak of her but with compassio\n",
      "er able to suppose that other people could feel differently from himself , he w\n",
      "led and chatted as cheerfully as she could , to keep him from such thoughts ; b\n",
      "ar ? Randalls is such a distance . I could not walk half so far .\" \" No , papa \n",
      "My dearest papa ! You do not think I could mean _you_ , or suppose Mr . Knightl\n",
      "fact , was one of the few people who could see faults in Emma Woodhouse , and t\n",
      "e her so well as we do , sir , if we could suppose it ; but she knows how much \n",
      "d his own situation to improve as he could . A complete change of life became d\n",
      "ermination of never settling till he could purchase Randalls , and the sale of \n",
      "ll - judging and truly amiable woman could be , and must give him the pleasante\n",
      "s nature to imagine that any caprice could be strong enough to affect one so de\n",
      "p for her had never cooled , and who could ill bear to part with her . She knew\n",
      "at at times she must be missed ; and could not think , without pain , of Emma '\n",
      "m , was all eat up . His own stomach could bear nothing rich , and he could nev\n",
      "ach could bear nothing rich , and he could never believe other people to be dif\n",
      "ife ; and upon being applied to , he could not but acknowledge ( though it seem\n",
      " , his house , and his daughter , he could command the visits of his own little\n",
      "an evening in the week in which Emma could not make up a card - table for him .\n",
      "und with fancy - work , whenever she could , and win or lose a few sixpences by\n",
      "Displaying 25 of 451 matches:\n",
      "every other leaf were powerless , he could read his own history with an interes\n",
      "as still a very fine man . Few women could think more of their personal appeara\n",
      "ersonal appearance than he did , nor could the valet of any new made lord be mo\n",
      "l ; but it was only in Anne that she could fancy the mother to revive again . A\n",
      "mild dark eyes from his own ), there could be nothing in them , now that she wa\n",
      "ood looks of everybody else ; for he could plainly see how old all the rest of \n",
      "self - possession and decision which could never have given the idea of her bei\n",
      "heir , and whose strong family pride could see only in him a proper match for S\n",
      "aronet from A to Z whom her feelings could have so willingly acknowledged as an\n",
      "ing black ribbons for his wife , she could not admit him to be worth thinking o\n",
      " were hereafter to be his own . This could not be pardoned . Such were Elizabet\n",
      " alarm , set seriously to think what could be done , and had finally proposed t\n",
      "l part of his estate that Sir Walter could dispose of ; but had every acre been\n",
      "em , as anybody of sense and honesty could well be . She was a benevolent , cha\n",
      "the most comprehensive retrenchments could secure , and saw no dignity in anyth\n",
      " Russell ' s had no success at all : could not be put up with , were not to be \n",
      "id not appear to him that Sir Walter could materially alter his style of living\n",
      "ondon ; but Mr Shepherd felt that he could not be trusted in London , and had b\n",
      "beyond their own circle . Sir Walter could not have borne the degradation of be\n",
      "it a friendship quite out of place , could hint of caution and reserve . Lady R\n",
      " . They will be all wanting a home . Could not be a better time , Sir Walter , \n",
      "d observed , Sir Walter ' s concerns could not be kept a secret ,)-- accidental\n",
      " man who knew it only by description could feel ; and given Mr Shepherd , in hi\n",
      "an extraordinary taste , certainly , could they have been supposed in the secre\n",
      " than Admiral Croft bid fair to be , could hardly offer . So far went his under\n"
     ]
    }
   ],
   "source": [
    "from nltk import Text\n",
    "emma = Text(gutenberg.words('austen-emma.txt'))\n",
    "persuasion =  Text(gutenberg.words('austen-persuasion.txt'))\n",
    "emma.concordance('could')\n",
    "persuasion.concordance('could')"
   ]
  },
  {
   "cell_type": "markdown",
   "metadata": {
    "deletable": true,
    "editable": true
   },
   "source": [
    "# Problem 2"
   ]
  },
  {
   "cell_type": "code",
   "execution_count": 51,
   "metadata": {
    "collapsed": false,
    "deletable": true,
    "editable": true
   },
   "outputs": [
    {
     "name": "stdout",
     "output_type": "stream",
     "text": [
      "1789-Washington.txt\n",
      "1793-Washington.txt\n",
      "1797-Adams.txt\n",
      "1801-Jefferson.txt\n",
      "1805-Jefferson.txt\n",
      "1809-Madison.txt\n",
      "1813-Madison.txt\n",
      "1817-Monroe.txt\n",
      "1821-Monroe.txt\n",
      "1825-Adams.txt\n",
      "1829-Jackson.txt\n",
      "1833-Jackson.txt\n",
      "1837-VanBuren.txt\n",
      "1841-Harrison.txt\n",
      "1845-Polk.txt\n",
      "1849-Taylor.txt\n",
      "1853-Pierce.txt\n",
      "1857-Buchanan.txt\n",
      "1861-Lincoln.txt\n",
      "1865-Lincoln.txt\n",
      "1869-Grant.txt\n",
      "1873-Grant.txt\n",
      "1877-Hayes.txt\n",
      "1881-Garfield.txt\n",
      "1885-Cleveland.txt\n",
      "1889-Harrison.txt\n",
      "1893-Cleveland.txt\n",
      "1897-McKinley.txt\n",
      "1901-McKinley.txt\n",
      "1905-Roosevelt.txt\n",
      "1909-Taft.txt\n",
      "1913-Wilson.txt\n",
      "1917-Wilson.txt\n",
      "1921-Harding.txt\n",
      "1925-Coolidge.txt\n",
      "1929-Hoover.txt\n",
      "1933-Roosevelt.txt\n",
      "1937-Roosevelt.txt\n",
      "1941-Roosevelt.txt\n",
      "1945-Roosevelt.txt\n",
      "1949-Truman.txt\n",
      "1953-Eisenhower.txt\n",
      "1957-Eisenhower.txt\n",
      "1961-Kennedy.txt\n",
      "1965-Johnson.txt\n",
      "1969-Nixon.txt\n",
      "1973-Nixon.txt\n",
      "1977-Carter.txt\n",
      "1981-Reagan.txt\n",
      "1985-Reagan.txt\n",
      "1989-Bush.txt\n",
      "1993-Clinton.txt\n",
      "1997-Clinton.txt\n",
      "2001-Bush.txt\n",
      "2005-Bush.txt\n",
      "2009-Obama.txt\n"
     ]
    }
   ],
   "source": [
    "from nltk.corpus import inaugural\n",
    "fileids = inaugural.fileids()\n",
    "for f in fileids:\n",
    "    print f"
   ]
  },
  {
   "cell_type": "markdown",
   "metadata": {
    "deletable": true,
    "editable": true
   },
   "source": [
    "Identify in the Inaugural corpus 10 top word occurancies, considering only words longer than 7 characters"
   ]
  },
  {
   "cell_type": "code",
   "execution_count": 52,
   "metadata": {
    "collapsed": false,
    "deletable": true,
    "editable": true,
    "scrolled": true
   },
   "outputs": [
    {
     "data": {
      "image/png": "[encoded data removed]",
      "text/plain": [
       "<matplotlib.figure.Figure at 0x7f0619641d90>"
      ]
     },
     "metadata": {},
     "output_type": "display_data"
    }
   ],
   "source": [
    "words =[]\n",
    "for f in inaugural.fileids():\n",
    "    words = words + [w.lower() for w in inaugural.words(f) if len(w)>7]\n",
    "fdist = FreqDist([w for w in words])\n",
    "fdist.plot(10)"
   ]
  },
  {
   "cell_type": "markdown",
   "metadata": {
    "deletable": true,
    "editable": true
   },
   "source": [
    "List top most frequent words"
   ]
  },
  {
   "cell_type": "code",
   "execution_count": 53,
   "metadata": {
    "collapsed": false,
    "deletable": true,
    "editable": true
   },
   "outputs": [
    {
     "name": "stdout",
     "output_type": "stream",
     "text": [
      "[u'government', u'citizens', u'constitution', u'national', u'american', u'congress', u'interests', u'political', u'executive', u'principles']\n"
     ]
    }
   ],
   "source": [
    "fdist.most_common()\n",
    "i=0\n",
    "most_common = []\n",
    "for word, frequency in fdist.most_common(10):\n",
    "    most_common.append (word)\n",
    "    i = i + 1\n",
    "print most_common"
   ]
  },
  {
   "cell_type": "markdown",
   "metadata": {
    "deletable": true,
    "editable": true
   },
   "source": [
    "Number of synonyms as part of WordNet for the previous 10 top words"
   ]
  },
  {
   "cell_type": "code",
   "execution_count": 54,
   "metadata": {
    "collapsed": false,
    "deletable": true,
    "editable": true
   },
   "outputs": [
    {
     "name": "stdout",
     "output_type": "stream",
     "text": [
      "government:12\n",
      "citizens:1\n",
      "constitution:20\n",
      "national:12\n",
      "american:7\n",
      "congress:17\n",
      "interests:21\n",
      "political:3\n",
      "executive:6\n",
      "principles:10\n"
     ]
    }
   ],
   "source": [
    "from nltk.corpus import wordnet as wn\n",
    "syn_list = []\n",
    "for m in most_common:\n",
    "    syn = wn.synsets(m)\n",
    "    count = 0\n",
    "    for s in syn:\n",
    "        s.lemma_names()\n",
    "        count = count + len(s.lemma_names())\n",
    "    print m + \":\" + str(count)"
   ]
  },
  {
   "cell_type": "markdown",
   "metadata": {
    "deletable": true,
    "editable": true
   },
   "source": [
    "List those synomyms"
   ]
  },
  {
   "cell_type": "code",
   "execution_count": 55,
   "metadata": {
    "collapsed": false,
    "deletable": true,
    "editable": true
   },
   "outputs": [
    {
     "name": "stdout",
     "output_type": "stream",
     "text": [
      "::::::::::::::::::::government::::::::::::::::::::\n",
      "[u'government', u'authorities', u'regime']\n",
      "[u'government', u'governing', u'governance', u'government_activity', u'administration']\n",
      "[u'government']\n",
      "[u'politics', u'political_science', u'government']\n",
      "::::::::::::::::::::citizens::::::::::::::::::::\n",
      "[u'citizen']\n",
      "::::::::::::::::::::constitution::::::::::::::::::::\n",
      "[u'fundamental_law', u'organic_law', u'constitution']\n",
      "[u'constitution', u'establishment', u'formation', u'organization', u'organisation']\n",
      "[u'United_States_Constitution', u'U.S._Constitution', u'US_Constitution', u'Constitution', u'Constitution_of_the_United_States']\n",
      "[u'constitution', u'composition', u'physical_composition', u'makeup', u'make-up']\n",
      "[u'Constitution', u'Old_Ironsides']\n",
      "::::::::::::::::::::national::::::::::::::::::::\n",
      "[u'national', u'subject']\n",
      "[u'national']\n",
      "[u'national']\n",
      "[u'national']\n",
      "[u'national']\n",
      "[u'home', u'interior', u'internal', u'national']\n",
      "[u'national']\n",
      "[u'national']\n",
      "::::::::::::::::::::american::::::::::::::::::::\n",
      "[u'American']\n",
      "[u'American_English', u'American_language', u'American']\n",
      "[u'American']\n",
      "[u'American']\n",
      "[u'American']\n",
      "::::::::::::::::::::congress::::::::::::::::::::\n",
      "[u'Congress', u'United_States_Congress', u'U.S._Congress', u'US_Congress']\n",
      "[u'congress']\n",
      "[u'congress']\n",
      "[u'sexual_intercourse', u'intercourse', u'sex_act', u'copulation', u'coitus', u'coition', u'sexual_congress', u'congress', u'sexual_relation', u'relation', u'carnal_knowledge']\n",
      "::::::::::::::::::::interests::::::::::::::::::::\n",
      "[u'interest', u'involvement']\n",
      "[u'sake', u'interest']\n",
      "[u'interest', u'interestingness']\n",
      "[u'interest']\n",
      "[u'interest', u'stake']\n",
      "[u'interest', u'interest_group']\n",
      "[u'pastime', u'interest', u'pursuit']\n",
      "[u'interest']\n",
      "[u'concern', u'interest', u'occupy', u'worry']\n",
      "[u'matter_to', u'interest']\n",
      "::::::::::::::::::::political::::::::::::::::::::\n",
      "[u'political']\n",
      "[u'political']\n",
      "[u'political']\n",
      "::::::::::::::::::::executive::::::::::::::::::::\n",
      "[u'executive', u'executive_director']\n",
      "[u'executive']\n",
      "[u'administrator', u'executive']\n",
      "[u'executive']\n",
      "::::::::::::::::::::principles::::::::::::::::::::\n",
      "[u'principle', u'rule']\n",
      "[u'principle']\n",
      "[u'principle']\n",
      "[u'principle', u'rule']\n",
      "[u'principle', u'precept']\n",
      "[u'rationale', u'principle']\n"
     ]
    }
   ],
   "source": [
    "for m in most_common:\n",
    "    syn = wn.synsets(m)\n",
    "    count = 0\n",
    "    print \"::::::::::::::::::::\" + m + \"::::::::::::::::::::\"\n",
    "    for s in syn:\n",
    "        print s.lemma_names()"
   ]
  },
  {
   "cell_type": "markdown",
   "metadata": {
    "deletable": true,
    "editable": true
   },
   "source": [
    "Number of hyponyms for those 10 words"
   ]
  },
  {
   "cell_type": "code",
   "execution_count": 56,
   "metadata": {
    "collapsed": false,
    "deletable": true,
    "editable": true
   },
   "outputs": [
    {
     "name": "stdout",
     "output_type": "stream",
     "text": [
      "government:32\n",
      "citizens:9\n",
      "constitution:17\n",
      "national:4\n",
      "american:114\n",
      "congress:18\n",
      "interests:45\n",
      "political:0\n",
      "executive:19\n",
      "principles:64\n"
     ]
    }
   ],
   "source": [
    "hyp_list = []\n",
    "for m in most_common:\n",
    "    syn = wn.synsets(m)\n",
    "    count = 0\n",
    "    for s in syn:\n",
    "        hyp = s.hyponyms()\n",
    "        for h in hyp:\n",
    "            count = count + len(h.lemma_names())\n",
    "    print m + \":\" + str(count)"
   ]
  },
  {
   "cell_type": "markdown",
   "metadata": {
    "deletable": true,
    "editable": true
   },
   "source": [
    "The list of hyponyms for each of the 10 words"
   ]
  },
  {
   "cell_type": "code",
   "execution_count": 57,
   "metadata": {
    "collapsed": false,
    "deletable": true,
    "editable": true
   },
   "outputs": [
    {
     "name": "stdout",
     "output_type": "stream",
     "text": [
      "::::::::::::::::::::government::::::::::::::::::::\n",
      "[u'ancien_regime']\n",
      "[u'authoritarian_state', u'authoritarian_regime']\n",
      "[u'bureaucracy']\n",
      "[u'court', u'royal_court']\n",
      "[u'Downing_Street']\n",
      "[u'empire']\n",
      "[u'federal_government']\n",
      "[u'government-in-exile']\n",
      "[u'local_government']\n",
      "[u'military_government', u'stratocracy']\n",
      "[u'palace']\n",
      "[u'papacy', u'pontificate']\n",
      "[u'puppet_government', u'puppet_state', u'pupet_regime']\n",
      "[u'state']\n",
      "[u'state_government']\n",
      "[u'totalitarian_state', u'totalitation_regime']\n",
      "[u'legislation', u'legislating', u'lawmaking']\n",
      "[u'misgovernment', u'misrule']\n",
      "[u'trust_busting']\n",
      "[u'geopolitics']\n",
      "[u'realpolitik', u'practical_politics']\n",
      "::::::::::::::::::::citizens::::::::::::::::::::\n",
      "[u'active_citizen']\n",
      "[u'civilian']\n",
      "[u'freeman', u'freewoman']\n",
      "[u'private_citizen']\n",
      "[u'repatriate']\n",
      "[u'thane']\n",
      "[u'voter', u'elector']\n",
      "::::::::::::::::::::constitution::::::::::::::::::::\n",
      "[u'collectivization', u'collectivisation']\n",
      "[u'colonization', u'colonisation', u'settlement']\n",
      "[u'communization', u'communisation']\n",
      "[u'federation']\n",
      "[u'unionization', u'unionisation']\n",
      "[u'genotype', u'genetic_constitution']\n",
      "[u'karyotype']\n",
      "[u'phenotype']\n",
      "[u'structure']\n",
      "[u'texture', u'grain']\n",
      "::::::::::::::::::::national::::::::::::::::::::\n",
      "[u'citizen']\n",
      "[u'compatriot']\n",
      "[u'patriot', u'nationalist']\n",
      "::::::::::::::::::::american::::::::::::::::::::\n",
      "[u'African-American', u'African_American', u'Afro-American', u'Black_American']\n",
      "[u'Alabaman', u'Alabamian']\n",
      "[u'Alaskan']\n",
      "[u'Anglo-American']\n",
      "[u'Appalachian']\n",
      "[u'Arizonan', u'Arizonian']\n",
      "[u'Arkansan', u'Arkansawyer']\n",
      "[u'Asian_American']\n",
      "[u'Bay_Stater']\n",
      "[u'Bostonian']\n",
      "[u'Californian']\n",
      "[u'Carolinian']\n",
      "[u'Coloradan']\n",
      "[u'Connecticuter']\n",
      "[u'Creole']\n",
      "[u'Delawarean', u'Delawarian']\n",
      "[u'Floridian']\n",
      "[u'Franco-American']\n",
      "[u'Georgian']\n",
      "[u'German_American']\n",
      "[u'Hawaiian']\n",
      "[u'Idahoan']\n",
      "[u'Illinoisan']\n",
      "[u'Indianan', u'Hoosier']\n",
      "[u'Iowan']\n",
      "[u'Kansan']\n",
      "[u'Kentuckian', u'Bluegrass_Stater']\n",
      "[u'Louisianan', u'Louisianian']\n",
      "[u'Mainer', u'Down_Easter']\n",
      "[u'Marylander']\n",
      "[u'Michigander', u'Wolverine']\n",
      "[u'Minnesotan', u'Gopher']\n",
      "[u'Mississippian']\n",
      "[u'Missourian']\n",
      "[u'Montanan']\n",
      "[u'Nebraskan', u'Cornhusker']\n",
      "[u'Nevadan']\n",
      "[u'New_Englander', u'Yankee']\n",
      "[u'New_Hampshirite', u'Granite_Stater']\n",
      "[u'New_Jerseyan', u'New_Jerseyite', u'Garden_Stater']\n",
      "[u'New_Mexican']\n",
      "[u'New_Yorker']\n",
      "[u'Nisei']\n",
      "[u'North_Carolinian', u'Tarheel']\n",
      "[u'North_Dakotan']\n",
      "[u'Ohioan', u'Buckeye']\n",
      "[u'Oklahoman', u'Sooner']\n",
      "[u'Oregonian', u'Beaver']\n",
      "[u'Pennsylvanian', u'Keystone_Stater']\n",
      "[u'Puerto_Rican']\n",
      "[u'Rhode_Islander']\n",
      "[u'South_Carolinian']\n",
      "[u'South_Dakotan']\n",
      "[u'Southerner']\n",
      "[u'Spanish_American', u'Hispanic_American', u'Hispanic']\n",
      "[u'Tennessean', u'Volunteer']\n",
      "[u'Texan']\n",
      "[u'Tory']\n",
      "[u'Utahan']\n",
      "[u'Vermonter']\n",
      "[u'Virginian']\n",
      "[u'Washingtonian']\n",
      "[u'Washingtonian']\n",
      "[u'West_Virginian']\n",
      "[u'Wisconsinite', u'Badger']\n",
      "[u'Wyomingite']\n",
      "[u'Yankee', u'Yank', u'Northerner']\n",
      "[u'Yankee', u'Yank', u'Yankee-Doodle']\n",
      "[u'African_American_Vernacular_English', u'AAVE', u'African_American_English', u'Black_English', u'Black_English_Vernacular', u'Black_Vernacular', u'Black_Vernacular_English', u'Ebonics']\n",
      "[u'Creole']\n",
      "[u'Latin_American', u'Latino']\n",
      "[u'Mesoamerican']\n",
      "[u'North_American']\n",
      "[u'South_American']\n",
      "[u'West_Indian']\n",
      "::::::::::::::::::::congress::::::::::::::::::::\n",
      "[u'Continental_Congress']\n",
      "[u'defloration']\n",
      "[u'fuck', u'fucking', u'screw', u'screwing', u'ass', u'nooky', u'nookie', u'piece_of_ass', u'piece_of_tail', u'roll_in_the_hay', u'shag', u'shtup']\n",
      "[u'hank_panky']\n",
      "[u'penetration']\n",
      "[u'unlawful_carnal_knowledge', u'criminal_congress']\n",
      "::::::::::::::::::::interests::::::::::::::::::::\n",
      "[u'concern']\n",
      "[u'enthusiasm']\n",
      "[u'behalf']\n",
      "[u'charisma', u'personal_appeal', u'personal_magnetism']\n",
      "[u'color', u'colour', u'vividness']\n",
      "[u'newsworthiness', u'news']\n",
      "[u'shrillness']\n",
      "[u'topicality']\n",
      "[u'compound_interest']\n",
      "[u'simple_interest']\n",
      "[u'controlling_interest']\n",
      "[u'equity']\n",
      "[u'fee']\n",
      "[u'grubstake']\n",
      "[u'insurable_interest']\n",
      "[u'reversion']\n",
      "[u'right']\n",
      "[u'security_interest']\n",
      "[u'terminable_interest']\n",
      "[u'undivided_interest', u'undivided_right']\n",
      "[u'vested_interest']\n",
      "[u'special_interest']\n",
      "[u'vested_interest']\n",
      "[u'avocation', u'by-line', u'hobby', u'pursuit', u'sideline', u'spare-time_activity']\n",
      "[u'absorb', u'engross', u'engage', u'occupy']\n",
      "[u'fascinate', u'transfix', u'grip', u'spellbind']\n",
      "[u'intrigue', u'fascinate']\n",
      "::::::::::::::::::::political::::::::::::::::::::\n",
      "::::::::::::::::::::executive::::::::::::::::::::\n",
      "[u'corporate_executive', u'business_executive']\n",
      "[u'minister', u'government_minister']\n",
      "[u'rainmaker']\n",
      "[u'Surgeon_General']\n",
      "[u'vice_president', u'V.P.']\n",
      "[u'Bush_administration']\n",
      "[u'Bush_administration']\n",
      "[u'Carter_administration']\n",
      "[u'Clinton_administration']\n",
      "[u'Reagan_administration']\n",
      "[u'commissioner']\n",
      "[u'Director_of_Central_Intelligence', u'DCI']\n",
      "[u'prefect']\n",
      "[u'Secretary_General']\n",
      "[u'triumvir']\n",
      "::::::::::::::::::::principles::::::::::::::::::::\n",
      "[u'feng_shui']\n",
      "[u'pillar']\n",
      "[u'yang']\n",
      "[u'yin']\n",
      "[u'accounting_principle', u'accounting_standard']\n",
      "[u'chivalry', u'knightliness']\n",
      "[u'ethic', u'moral_principle', u'value-system', u'value_orientation']\n",
      "[u'Hellenism']\n",
      "[u'legal_principle', u'judicial_principle', u'judicial_doctrine']\n",
      "[u'scruple']\n",
      "[u'conservation']\n",
      "[u'dictate']\n",
      "[u'fundamentals', u'basics', u'fundamental_principle', u'basic_principle', u'bedrock']\n",
      "[u'insurrectionism']\n",
      "[u'logic']\n",
      "[u'pleasure_principle', u'pleasure-pain_principle', u'pleasure-unpleasure_principle']\n",
      "[u'reality_principle']\n",
      "[u'Tao']\n",
      "[u'Gestalt_law_of_organization', u'Gestalt_principle_of_organization']\n",
      "[u\"Gresham's_Law\"]\n",
      "[u\"Le_Chatelier's_principle\", u\"Le_Chatelier's_law\", u'Le_Chatelier_principle', u'Le_Chatelier-Braun_principle']\n",
      "[u'localization_of_function', u'localisation_of_function', u'localization_principle', u'localisation_principle', u'localization', u'localisation']\n",
      "[u'mass-action_principle', u'mass_action']\n",
      "[u'mass-energy_equivalence']\n",
      "[u\"Naegele's_rule\"]\n",
      "[u\"Occam's_Razor\", u\"Ockham's_Razor\", u'principle_of_parsimony', u'law_of_parsimony']\n",
      "[u'principle_of_equivalence']\n",
      "[u'principle_of_liquid_displacement']\n",
      "[u'principle_of_superposition', u'superposition_principle', u'superposition']\n",
      "[u'principle_of_superposition', u\"Huygens'_principle_of_superposition\"]\n",
      "[u'caveat_emptor']\n",
      "[u'higher_law']\n",
      "[u'hypothetical_imperative']\n",
      "[u'moral_principle']\n",
      "[u'dialectics']\n"
     ]
    }
   ],
   "source": [
    "for m in most_common:\n",
    "    syn = wn.synsets(m)\n",
    "    count = 0\n",
    "    print \"::::::::::::::::::::\" + m + \"::::::::::::::::::::\"\n",
    "    for s in syn:\n",
    "        hyp = s.hyponyms()\n",
    "        for h in hyp:\n",
    "            print h.lemma_names()\n",
    "        "
   ]
  },
  {
   "cell_type": "markdown",
   "metadata": {
    "deletable": true,
    "editable": true
   },
   "source": [
    "# Problem 3"
   ]
  },
  {
   "cell_type": "markdown",
   "metadata": {
    "collapsed": true,
    "deletable": true,
    "editable": true
   },
   "source": [
    "Load grammar file created from the provided sentence and create tree structure"
   ]
  },
  {
   "cell_type": "code",
   "execution_count": 58,
   "metadata": {
    "collapsed": false,
    "deletable": true,
    "editable": true
   },
   "outputs": [
    {
     "name": "stdout",
     "output_type": "stream",
     "text": [
      "(S\n",
      "  (S1\n",
      "    (VP (V Describe))\n",
      "    (NP (Det every) (N step) (P of) (Det your) (N work)))\n",
      "  (C and)\n",
      "  (S1\n",
      "    (VP (V present))\n",
      "    (NP\n",
      "      (Det all)\n",
      "      (AP (Adj intermediate) (C and) (Adj final))\n",
      "      (N results))\n",
      "    (PP (P in) (Det a) (Adj Word) (N document))))\n",
      "                                               S                                                      \n",
      "                 ______________________________|_____________________                                  \n",
      "                |                  |                                 S1                               \n",
      "                |                  |      ___________________________|________________                 \n",
      "                S1                 |     |                      NP                    |               \n",
      "    ____________|____              |     |      ________________|___________          |                \n",
      "   VP                NP            |     VP    |                AP          |         PP              \n",
      "   |        _________|________     |     |     |        ________|____       |      ___|__________      \n",
      "   V      Det   N    P  Det   N    C     V    Det     Adj       C   Adj     N     P  Det Adj     N    \n",
      "   |       |    |    |   |    |    |     |     |       |        |    |      |     |   |   |      |     \n",
      "Describe every step  of your work and present all intermediate and final results  in  a  Word document\n",
      "\n"
     ]
    }
   ],
   "source": [
    "from nltk import RecursiveDescentParser\n",
    "from nltk.tree import Tree\n",
    "from nltk import CFG\n",
    "from nltk import word_tokenize\n",
    "\n",
    "#grammar definition\n",
    "grammar = CFG.fromstring(\"\"\"\n",
    "S -> S1 C S1\n",
    "S1 -> VP NP | VP NP PP\n",
    "VP -> V | C V \n",
    "NP -> Det N P Det N | Det AP N \n",
    "PP -> P Det Adj N\n",
    "AP -> Adj C Adj\n",
    "N ->'step' | 'work' | 'results' | 'document'\n",
    "Adj -> 'intermediate' | 'final' | 'Word'\n",
    "Det -> 'every' | 'your' | 'all' | 'a'\n",
    "V -> 'Describe' | 'present'\n",
    "P -> 'of' | 'in'\n",
    "C -> 'and'\n",
    "\"\"\")\n",
    " \n",
    "sent  = word_tokenize(\"Describe every step of your work and  present all intermediate and final results in a Word document\")\n",
    " \n",
    "#parse sentece according to grammar\n",
    "parser = RecursiveDescentParser(grammar)\n",
    "trees = parser.parse(sent)\n",
    "i=0\n",
    "for tree in trees:\n",
    "    print tree\n",
    "    t = Tree.fromstring(str(tree))\n",
    "    #tree representation\n",
    "    t.pretty_print()\n",
    "    i = i + 1\n",
    "    if i == 1:\n",
    "        break"
   ]
  },
  {
   "cell_type": "code",
   "execution_count": null,
   "metadata": {
    "collapsed": true
   },
   "outputs": [],
   "source": []
  }
 ],
 "metadata": {
  "kernelspec": {
   "display_name": "Python 2",
   "language": "python",
   "name": "python2"
  },
  "language_info": {
   "codemirror_mode": {
    "name": "ipython",
    "version": 2
   },
   "file_extension": ".py",
   "mimetype": "text/x-python",
   "name": "python",
   "nbconvert_exporter": "python",
   "pygments_lexer": "ipython2",
   "version": "2.7.12"
  }
 },
 "nbformat": 4,
 "nbformat_minor": 2
}
