{
 "cells": [
  {
   "cell_type": "markdown",
   "metadata": {},
   "source": [
    "# Problem 5"
   ]
  },
  {
   "cell_type": "code",
   "execution_count": 56,
   "metadata": {
    "collapsed": false,
    "deletable": true,
    "editable": true
   },
   "outputs": [],
   "source": [
    "import tensorflow as tf\n",
    "import numpy as np\n",
    "tf.logging.set_verbosity(tf.logging.ERROR)"
   ]
  },
  {
   "cell_type": "code",
   "execution_count": 57,
   "metadata": {
    "collapsed": false,
    "deletable": true,
    "editable": true
   },
   "outputs": [],
   "source": [
    "#train records\n",
    "train_data = np.loadtxt(open(\"../problem_5/car_train.csv\"), delimiter=\",\")\n",
    "x_data = train_data[:,0:3] # first five columns are features\n",
    "y_data = train_data[:,3] # last column is the tip amount\n",
    "\n",
    "#test records\n",
    "test_data = np.loadtxt(open(\"../problem_5/car_test.csv\"), delimiter=\",\")\n",
    "x_test = test_data[:,0:3] # first five columns are features\n",
    "y_test = test_data[:,3] # last column is the tip amount\n",
    "\n",
    "#features \n",
    "feature_columns=[tf.contrib.layers.real_valued_column('', dimension=3)]"
   ]
  },
  {
   "cell_type": "code",
   "execution_count": 58,
   "metadata": {
    "collapsed": false,
    "deletable": true,
    "editable": true
   },
   "outputs": [
    {
     "name": "stdout",
     "output_type": "stream",
     "text": [
      "19.7964-->18.0 || Sqr Error:3.22694356955\n",
      "18.0981-->15.0 || Sqr Error:9.59806225761\n",
      "17.555-->18.0 || Sqr Error:0.198048494654\n",
      "18.6682-->16.0 || Sqr Error:7.11915646266\n",
      "19.256-->17.0 || Sqr Error:5.08955555275\n",
      "19.7055-->15.0 || Sqr Error:22.1417628473\n",
      "17.3688-->14.0 || Sqr Error:11.348551097\n",
      "18.0553-->14.0 || Sqr Error:16.4457036514\n",
      "18.1474-->14.0 || Sqr Error:17.2011316246\n",
      "16.4183-->15.0 || Sqr Error:2.0116686509\n",
      "28.8258-->14.0 || Sqr Error:219.805361929\n",
      "24.1941-->16.0 || Sqr Error:67.1436717623\n",
      "22.8923-->17.0 || Sqr Error:34.7191277581\n",
      "21.5942-->19.0 || Sqr Error:6.73010194864\n",
      "19.1997-->20.0 || Sqr Error:0.640532947818\n",
      "MSE:28.2279587036\n",
      "{'loss': 28.227959, 'global_step': 200}\n"
     ]
    }
   ],
   "source": [
    "# train and evaluate a linear regression model\n",
    "#add features to the model\n",
    "m = tf.contrib.learn.LinearRegressor(feature_columns)\n",
    "\n",
    "#first trains the model\n",
    "m.fit(x_data, y_data, steps=200)\n",
    "\n",
    "#afterwards tests the model\n",
    "test = m.evaluate(x_test, y_test, steps=1)\n",
    "\n",
    "#prediction for the test data\n",
    "prediction = m.predict(x_test)\n",
    "\n",
    "#compare actual test data with prediction\n",
    "\n",
    "j=0\n",
    "sum2ErrAcc = 0\n",
    "for i in prediction:\n",
    "    sum2Err = (y_test[j]- i)**2\n",
    "    print str(i) + \"-->\" + str(y_test[j]) + \" || Sqr Error:\" + str(sum2Err)\n",
    "    sum2ErrAcc= sum2ErrAcc + sum2Err\n",
    "    j = j +1\n",
    "\n",
    "\n",
    "#MSE calculated manually\n",
    "print \"MSE:\" + str(sum2ErrAcc/j)\n",
    "\n",
    "\n",
    "#MSE error directly provided by TensorFlow\n",
    "print test\n",
    "\n",
    "\n",
    "\n",
    "\n",
    "\n"
   ]
  }
 ],
 "metadata": {
  "kernelspec": {
   "display_name": "Python 2",
   "language": "python",
   "name": "python2"
  },
  "language_info": {
   "codemirror_mode": {
    "name": "ipython",
    "version": 2
   },
   "file_extension": ".py",
   "mimetype": "text/x-python",
   "name": "python",
   "nbconvert_exporter": "python",
   "pygments_lexer": "ipython2",
   "version": "2.7.12+"
  }
 },
 "nbformat": 4,
 "nbformat_minor": 0
}
