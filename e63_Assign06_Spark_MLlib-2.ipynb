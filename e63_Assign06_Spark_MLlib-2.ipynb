{
 "cells": [
  {
   "cell_type": "markdown",
   "metadata": {
    "deletable": true,
    "editable": true
   },
   "source": [
    "# Problem 1."
   ]
  },
  {
   "cell_type": "markdown",
   "metadata": {
    "deletable": true,
    "editable": true
   },
   "source": [
    "Define spark context and data source"
   ]
  },
  {
   "cell_type": "code",
   "execution_count": 1,
   "metadata": {
    "collapsed": false,
    "deletable": true,
    "editable": true
   },
   "outputs": [],
   "source": [
    "from pyspark import SparkContext, SparkConf\n",
    "conf = SparkConf().setAppName(\"Spark Count\")\n",
    "sc = SparkContext(conf=conf)\n",
    "path = \"file:///home/jovyan/work/auto_mpg_original.csv\"   "
   ]
  },
  {
   "cell_type": "markdown",
   "metadata": {
    "deletable": true,
    "editable": true
   },
   "source": [
    "Load the data file and split in into columns and rows. THe file contains 406 records. Also is presented first record's content"
   ]
  },
  {
   "cell_type": "code",
   "execution_count": 2,
   "metadata": {
    "collapsed": false,
    "deletable": true,
    "editable": true
   },
   "outputs": [
    {
     "name": "stdout",
     "output_type": "stream",
     "text": [
      "First data row: [u'18', u'8', u'307', u'130', u'3504', u'12', u'70', u'1', u'chevrolet']\n",
      "Total number of rows 406\n"
     ]
    }
   ],
   "source": [
    "raw_data = sc.textFile(path)\n",
    "records = raw_data.map(lambda x: x.split(\",\"))  \n",
    "records.cache()\n",
    "num_data = records.count()\n",
    "first = records.first() \n",
    "print \"First data row: %s\" %first \n",
    "print \"Total number of rows %u\" %num_data"
   ]
  },
  {
   "cell_type": "markdown",
   "metadata": {
    "deletable": true,
    "editable": true
   },
   "source": [
    "Create test and training datasets. Test will be 20% of the total number of records, training wiil be the other 80%. Test plus train data add up to the original DDR number of rows"
   ]
  },
  {
   "cell_type": "code",
   "execution_count": 3,
   "metadata": {
    "collapsed": false,
    "deletable": true,
    "editable": true
   },
   "outputs": [
    {
     "name": "stdout",
     "output_type": "stream",
     "text": [
      "Traning data first record [u'18', u'8', u'307', u'130', u'3504', u'12', u'70', u'1', u'chevrolet']\n",
      "Test data first record [u'18', u'8', u'307', u'130', u'3504', u'12', u'70', u'1', u'chevrolet']\n",
      "Number of test records: 73\n",
      "Number of training records: 333\n",
      "Total number of data  rows: 406\n"
     ]
    }
   ],
   "source": [
    "records_with_idx = records.zipWithIndex().map(lambda (k, v): (v, k)) \n",
    "test_data_idx = records_with_idx.sample(False, 0.2, 42)\n",
    "training_data_idx = records_with_idx.subtractByKey(test_data_idx) \n",
    "\n",
    "test_data = test_data_idx.map(lambda (idx, p) : p) \n",
    "training_data = training_data_idx.map(lambda (idx, p) : p) \n",
    "print \"Traning data first record %s\" %training_data.first()\n",
    "print \"Test data first record %s\" %training_data.first()\n",
    "print \"Number of test records: %u\" %test_data.count()\n",
    "print \"Number of training records: %u\" %training_data.count()\n",
    "print \"Total number of data  rows: %u\" %(test_data.count() + training_data.count())"
   ]
  },
  {
   "cell_type": "markdown",
   "metadata": {
    "collapsed": false,
    "deletable": true,
    "editable": true
   },
   "source": [
    "Linear regression model using the training data converted to vector. To avoid raising error NA values need to be removed since they cannot be converted to float as required by the regression model function"
   ]
  },
  {
   "cell_type": "code",
   "execution_count": 4,
   "metadata": {
    "collapsed": false,
    "deletable": true,
    "editable": true,
    "scrolled": false
   },
   "outputs": [
    {
     "name": "stdout",
     "output_type": "stream",
     "text": [
      "[LabeledPoint(130.0, [307.0]), LabeledPoint(140.0, [302.0]), LabeledPoint(220.0, [454.0]), LabeledPoint(225.0, [455.0]), LabeledPoint(115.0, [133.0])]\n"
     ]
    },
    {
     "name": "stderr",
     "output_type": "stream",
     "text": [
      "/usr/local/spark/python/pyspark/mllib/regression.py:281: UserWarning: Deprecated in 2.0.0. Use ml.regression.LinearRegression.\n",
      "  warnings.warn(\"Deprecated in 2.0.0. Use ml.regression.LinearRegression.\")\n"
     ]
    },
    {
     "name": "stdout",
     "output_type": "stream",
     "text": [
      "(weights=[0.290400305179], intercept=0.0)\n"
     ]
    }
   ],
   "source": [
    "from pyspark.mllib.regression import LinearRegressionWithSGD\n",
    "from pyspark.mllib.regression import LabeledPoint\n",
    "import numpy as np\n",
    "\n",
    "test_dt = test_data.filter(lambda v: v[3]<>\"NA\").map(lambda r: LabeledPoint(float(r[3]),np.array(r[2:3])))\n",
    "data_dt = training_data.filter(lambda v: v[3]<>\"NA\").map(lambda r: LabeledPoint(float(r[3]),np.array(r[2:3]))) \n",
    "\n",
    "print data_dt.take(5)\n",
    "\n",
    "linear_model = LinearRegressionWithSGD.train(data_dt, iterations=200,step=0.000001, intercept=False) \n",
    "print linear_model\n"
   ]
  },
  {
   "cell_type": "markdown",
   "metadata": {
    "deletable": true,
    "editable": true
   },
   "source": [
    "Use the test data to illustrate accuracy of the linear regression model and its ability to predict the relationship. We compare trained values versus predicted according to the linear regression model"
   ]
  },
  {
   "cell_type": "code",
   "execution_count": 5,
   "metadata": {
    "collapsed": false,
    "deletable": true,
    "editable": true
   },
   "outputs": [
    {
     "name": "stdout",
     "output_type": "stream",
     "text": [
      "[LabeledPoint(150.0, [318.0])]\n",
      "Linear Model predictions: [(150.0, 92.347297046995223), (150.0, 88.281692774486004), (190.0, 113.2561190198998), (175.0, 111.2233168836452), (160.0, 98.736103760938292), (140.0, 87.700892164127538), (215.0, 104.54410986452289), (193.0, 88.281692774486004), (90.0, 40.656042725092234), (175.0, 116.1601220716921)]\n"
     ]
    }
   ],
   "source": [
    "print test_dt.take(1)\n",
    "true_vs_predicted = test_dt.map(lambda p: (p.label, linear_model.predict(p.features)))\n",
    "print \"Linear Model predictions: \" + str(true_vs_predicted.take(10)) "
   ]
  },
  {
   "cell_type": "markdown",
   "metadata": {
    "deletable": true,
    "editable": true
   },
   "source": [
    "Calculate two standard measures of model accuracy, in this case MSE and MAE"
   ]
  },
  {
   "cell_type": "code",
   "execution_count": 183,
   "metadata": {
    "collapsed": false,
    "deletable": true,
    "editable": true
   },
   "outputs": [
    {
     "name": "stdout",
     "output_type": "stream",
     "text": [
      "Mean Square Error (MSE): 2680.795431\n",
      "Mean Absolute Error (MAE): 48.550393\n"
     ]
    }
   ],
   "source": [
    "def squared_error(actual, pred):     \n",
    "    return (pred - actual)**2\n",
    "\n",
    "def abs_error(actual, pred):    \n",
    "    return np.abs(pred - actual) \n",
    "\n",
    "\n",
    "mse = true_vs_predicted.map(lambda (t, p): squared_error(t, p)).mean() \n",
    "mae = true_vs_predicted.map(lambda (t, p): abs_error(t, p)).mean() \n",
    "\n",
    "print \"Mean Square Error (MSE): %f\" %mse\n",
    "print \"Mean Absolute Error (MAE): %f\" %mae"
   ]
  },
  {
   "cell_type": "markdown",
   "metadata": {
    "deletable": true,
    "editable": true
   },
   "source": [
    "Plot linear regression model from displacement 0 to 400. Add scaterplot with test values"
   ]
  },
  {
   "cell_type": "code",
   "execution_count": 8,
   "metadata": {
    "collapsed": false,
    "deletable": true,
    "editable": true,
    "scrolled": true
   },
   "outputs": [
    {
     "name": "stdout",
     "output_type": "stream",
     "text": [
      "[0, 450]\n"
     ]
    },
    {
     "data": {
      "image/png": "[encoded data removed]",
      "text/plain": [
       "<matplotlib.figure.Figure at 0x7f8a1ac4e750>"
      ]
     },
     "metadata": {},
     "output_type": "display_data"
    }
   ],
   "source": [
    "import matplotlib.pyplot as plt\n",
    "\n",
    "\n",
    "x_model=[0, 450]\n",
    "y_model = [linear_model.intercept, linear_model.intercept + 450 * linear_model.weights[0]]\n",
    "\n",
    "\n",
    "plt.plot(x_model, y_model, color='red')\n",
    "\n",
    "print x_model\n",
    "plt.xlabel('displacement')\n",
    "plt.ylabel('horsepower')\n",
    "\n",
    "x_real = test_data.map(lambda v: float(v[2]))\n",
    "y_real = test_data.map(lambda v: float(v[3]))\n",
    "\n",
    "\n",
    "plt.plot (x_real.collect(), y_real.collect(), \"go\")\n",
    "plt.show()"
   ]
  },
  {
   "cell_type": "markdown",
   "metadata": {
    "deletable": true,
    "editable": true
   },
   "source": [
    "# Problem 2."
   ]
  },
  {
   "cell_type": "markdown",
   "metadata": {
    "deletable": true,
    "editable": true
   },
   "source": [
    "Vector lenght calculation for binary encoding"
   ]
  },
  {
   "cell_type": "code",
   "execution_count": 75,
   "metadata": {
    "collapsed": false,
    "deletable": true,
    "editable": true
   },
   "outputs": [
    {
     "name": "stdout",
     "output_type": "stream",
     "text": [
      "[(u'8', u'70', u'1', u'chevrolet', u'307', u'130', u'3504', u'12', u'18')]\n",
      "Feature vector length for categorical features: 59\n",
      "Feature vector length for numerical features: 4\n",
      "Total feature vector length: 63\n"
     ]
    }
   ],
   "source": [
    "def get_mapping(rdd, idx):    \n",
    "    return rdd.map(lambda fields: fields[idx]).distinct().zipWithIndex().collectAsMap() \n",
    "\n",
    "data_ord = records.filter(lambda v: v[3]<>\"NA\" and v[0]<>\"NA\")\\\n",
    ".map(lambda v: (v[1],v[6],v[7],v[8],v[2],v[3],v[4],v[5],v[0]))\n",
    "\n",
    "print data_ord.take(1)\n",
    "mappings = [get_mapping(data_ord, i) for i in range(0,4)] \n",
    "cat_len = sum(map(len, mappings))\n",
    "num_len = num_len = len(data_ord.first()[4:8]) \n",
    "total_len = num_len + cat_len \n",
    "\n",
    "print \"Feature vector length for categorical features: %d\" % cat_len \n",
    "print \"Feature vector length for numerical features: %d\" % num_len\n",
    "print \"Total feature vector length: %d\" % total_len"
   ]
  },
  {
   "cell_type": "code",
   "execution_count": 76,
   "metadata": {
    "collapsed": false,
    "deletable": true,
    "editable": true
   },
   "outputs": [
    {
     "name": "stdout",
     "output_type": "stream",
     "text": [
      "[LabeledPoint(18.0, [1.0,0.0,0.0,0.0,0.0,0.0,0.0,0.0,0.0,0.0,0.0,0.0,1.0,0.0,0.0,0.0,0.0,0.0,1.0,0.0,0.0,0.0,0.0,0.0,0.0,0.0,0.0,0.0,0.0,0.0,1.0,0.0,0.0,0.0,0.0,0.0,0.0,0.0,0.0,0.0,0.0,0.0,0.0,0.0,0.0,0.0,0.0,0.0,0.0,0.0,0.0,0.0,0.0,0.0,0.0,0.0,0.0,0.0,0.0,307.0,130.0,3504.0,12.0])]\n",
      "Label: 18.0\n",
      "Linear Model feature vector:\n",
      "[1.0,0.0,0.0,0.0,0.0,0.0,0.0,0.0,0.0,0.0,0.0,0.0,1.0,0.0,0.0,0.0,0.0,0.0,1.0,0.0,0.0,0.0,0.0,0.0,0.0,0.0,0.0,0.0,0.0,0.0,1.0,0.0,0.0,0.0,0.0,0.0,0.0,0.0,0.0,0.0,0.0,0.0,0.0,0.0,0.0,0.0,0.0,0.0,0.0,0.0,0.0,0.0,0.0,0.0,0.0,0.0,0.0,0.0,0.0,307.0,130.0,3504.0,12.0]\n",
      "Linear Model feature vector length: 63\n"
     ]
    }
   ],
   "source": [
    "def extract_features(record):    \n",
    "    cat_vec = np.zeros(cat_len)    \n",
    "    i = 0    \n",
    "    step = 0    \n",
    "    for field in record[0:4]:      \n",
    "        m = mappings[i]       \n",
    "        idx = m[field]       \n",
    "        cat_vec[idx + step] = 1       \n",
    "        i = i + 1       \n",
    "        step = step + len(m)    \n",
    "    num_vec = np.array([float(field) for field in record[4:8]])    \n",
    "    return np.concatenate((cat_vec, num_vec)) \n",
    " \n",
    "def extract_label(record):     \n",
    "    return float(record[8]) \n",
    "\n",
    "data_bin = data_ord.map(lambda r: LabeledPoint(extract_label(r),extract_features(r)))\n",
    "\n",
    "print data_bin.take(1)\n",
    "\n",
    "\n",
    "first_point = data_bin.first() \n",
    "print \"Label: \" + str(first_point.label) \n",
    "print \"Linear Model feature vector:\\n\" + str(first_point.features) \n",
    "print \"Linear Model feature vector length: \" + str(len(first_point. features)) "
   ]
  },
  {
   "cell_type": "markdown",
   "metadata": {
    "deletable": true,
    "editable": true
   },
   "source": [
    "Regression model with 8 feature variables and one label variable"
   ]
  },
  {
   "cell_type": "code",
   "execution_count": 187,
   "metadata": {
    "collapsed": false,
    "deletable": true,
    "editable": true
   },
   "outputs": [
    {
     "name": "stdout",
     "output_type": "stream",
     "text": [
      "(weights=[-4.21008505334e-05,5.33311742477e-07,7.45910120355e-07,9.47592829671e-05,-4.9269245261e-06,1.41319213125e-06,2.8411482803e-06,-2.9034811825e-07,3.34579127888e-06,-1.07767545496e-05,-3.42232820761e-06,1.32074063019e-06,-2.90821773285e-06,1.65854784981e-05,1.76425234945e-05,1.29541462769e-05,4.42163777876e-06,5.88372002577e-06,-2.0617097041e-05,4.54574306275e-05,2.41703962308e-05,1.53683622298e-07,-2.42449018113e-06,1.89577044782e-06,3.66381074659e-06,1.95919773287e-07,-4.20583232877e-07,7.73583368314e-07,2.51203812411e-06,-1.35701611292e-06,-3.5340634894e-06,3.02179736914e-07,9.68014411037e-07,7.71622345131e-07,-2.42264177469e-06,-6.50318482397e-07,-2.98150849445e-06,1.04631755584e-05,6.9417435362e-07,-3.51798133598e-06,5.27432147954e-06,2.37624519327e-07,0.0,5.8632379819e-07,3.13626941682e-07,8.53350160274e-06,8.32965803335e-07,3.09078522754e-06,-2.18157505799e-06,1.58927098801e-06,8.59637932487e-07,1.14062830764e-05,4.53141310936e-07,-2.90169099133e-07,-3.57516592818e-07,-1.55303529933e-06,1.43526032005e-05,5.37597085769e-08,7.23810861505e-07,-0.006638890404,-0.000441874519887,0.00735800828307,0.000965433013973], intercept=0.0)\n"
     ]
    }
   ],
   "source": [
    "#from the binary encoded DDR, sample 20% for training and rest for test\n",
    "records_ord_with_idx = data_bin.zipWithIndex().map(lambda (k, v): (v, k)) \n",
    "test_data_ord_idx = records_ord_with_idx.sample(False, 0.2, 42)\n",
    "training_data_ord_idx = records_ord_with_idx.subtractByKey(test_data_ord_idx) \n",
    "\n",
    "test_data_ord_bin = test_data_ord_idx.map(lambda (idx, p) : p) \n",
    "training_data_ord_bin = training_data_ord_idx.map(lambda (idx, p) : p)\n",
    "\n",
    "linear_model_bin = LinearRegressionWithSGD.train(training_data_ord_bin, iterations=200,step=0.000001, intercept=False)\n",
    "print linear_model_bin\n"
   ]
  },
  {
   "cell_type": "code",
   "execution_count": 104,
   "metadata": {
    "collapsed": false,
    "deletable": true,
    "editable": true
   },
   "outputs": [
    {
     "name": "stdout",
     "output_type": "stream",
     "text": [
      "[(18.0, 23.115221913652338), (16.0, 23.187055163481137), (15.0, 25.663346046434), (28.0, 28.043510504530769), (14.0, 24.234786713495044)]\n",
      "Mean Square Error (MSE): 150.737088\n",
      "Mean Absolute Error (MAE): 10.257624\n"
     ]
    }
   ],
   "source": [
    "true_vs_predicted_bin = test_data_ord_bin.map(lambda p: (p.label, linear_model_bin.predict(p.features)))\n",
    "print str(true_vs_predicted_bin.take(5))\n",
    "\n",
    "mse_bin = true_vs_predicted_bin.map(lambda (t, p): squared_error(t, p)).mean() \n",
    "mae_bin = true_vs_predicted_bin.map(lambda (t, p): abs_error(t, p)).mean() \n",
    "\n",
    "\n",
    "print \"Mean Square Error (MSE): %f\" %mse_bin\n",
    "print \"Mean Absolute Error (MAE): %f\" %mae_bin"
   ]
  },
  {
   "cell_type": "markdown",
   "metadata": {
    "deletable": true,
    "editable": true
   },
   "source": [
    "# Problem 3"
   ]
  },
  {
   "cell_type": "markdown",
   "metadata": {
    "deletable": true,
    "editable": true
   },
   "source": [
    "Creater feature vectors for the decision tree"
   ]
  },
  {
   "cell_type": "code",
   "execution_count": 154,
   "metadata": {
    "collapsed": false,
    "deletable": true,
    "editable": true
   },
   "outputs": [
    {
     "name": "stdout",
     "output_type": "stream",
     "text": [
      "Mapping of first categorical feature column: {u'buick': 1, u'subaru': 2, u'vw': 3, u'chevroelt': 5, u'opel': 6, u'audi': 7, u'mercury': 8, u'chevrolet': 9, u'datsun': 35, u'capri': 10, u'amc': 15, u'dodge': 12, u'pontiac': 13, u'cadillac': 14, u'maxda': 11, u'honda': 16, u'vokswagen': 17, u'ford': 18, u'mazda': 19, u'toyouta': 20, u'hi': 21, u'bmw': 22, u'mercedes-benz': 23, u'volkswagen': 24, u'peugeot': 25, u'fiat': 26, u'saab': 31, u'oldsmobile': 34, u'renault': 28, u'nissan': 29, u'toyota': 30, u'volvo': 0, u'chevy': 32, u'plymouth': 33, u'chrysler': 27, u'citroen': 4, u'mercedes': 36, u'triumph': 37}\n",
      "Decision Tree feature vector: [8.0,70.0,1.0,307.0,130.0,3504.0,12.0]\n",
      "Decision Tree feature vector length: 7\n"
     ]
    }
   ],
   "source": [
    "def get_mapping_dt(rdd, idx):    \n",
    "    return rdd.map(lambda fields: fields[idx]).distinct().zipWithIndex().collectAsMap()  \n",
    "\n",
    "#convert car string variable to numeric\n",
    "print \"Mapping of first categorical feature column: %s\" % get_mapping(data_ord, 3) \n",
    "\n",
    "\n",
    "def extract_features_dt(record):    \n",
    "    return np.array(map(float, record[0:7])) \n",
    "\n",
    "def extract_label_dt(record):     \n",
    "    return float(record[7]) \n",
    " \n",
    "#removed car model from the feauture variables, I could manage to add the dictionary to the RDD\n",
    "data_tree_no_car_type = data_ord.map(lambda v: (v[0],v[1],v[2],v[4],v[5],v[6],v[7],v[8]))\n",
    "\n",
    "\n",
    "data_tree = data_tree_no_car_type.map(lambda r: LabeledPoint(extract_label_dt(r), extract_features_dt(r))) \n",
    "\n",
    "first_point_tree = data_tree.first() \n",
    "print \"Decision Tree feature vector: \" + str(first_point_tree.features) \n",
    "print \"Decision Tree feature vector length: \" + str(len(first_point_tree.features)) "
   ]
  },
  {
   "cell_type": "code",
   "execution_count": 167,
   "metadata": {
    "collapsed": false,
    "deletable": true,
    "editable": true
   },
   "outputs": [
    {
     "name": "stdout",
     "output_type": "stream",
     "text": [
      "Decision Tree predictions: [(18.0, 15.25), (16.0, 15.25), (15.0, 21.5), (28.0, 21.5), (14.0, 15.25)]\n",
      "Decision Tree depth: 5\n",
      "Decision Tree number of nodes: 61\n"
     ]
    }
   ],
   "source": [
    "from pyspark.mllib.tree import DecisionTree\n",
    "\n",
    "#from the RDD sample 20% for training and rest for test\n",
    "records_tree_with_idx = data_tree.zipWithIndex().map(lambda (k, v): (v, k)) \n",
    "test_tree_idx = records_tree_with_idx.sample(False, 0.2, 42)\n",
    "training_tree_idx = records_tree_with_idx.subtractByKey(test_tree_idx) \n",
    "\n",
    "test_tree = test_tree_idx.map(lambda (idx, p) : p) \n",
    "training_tree = training_tree_idx.map(lambda (idx, p) : p)\n",
    "\n",
    "model_tree = DecisionTree.trainRegressor(training_tree,{}) \n",
    "\n",
    "preds_tree = model_tree.predict(test_tree.map(lambda p: p.features)) \n",
    "actual_tree = test_tree.map(lambda p: p.label) \n",
    "true_vs_predicted_tree = actual_tree.zip(preds_tree) \n",
    "\n",
    "print \"Decision Tree predictions: \" + str(true_vs_predicted_tree.take(5)) \n",
    "print \"Decision Tree depth: \" + str(model_tree.depth()) \n",
    "print \"Decision Tree number of nodes: \" + str(model_tree.numNodes()) \n"
   ]
  },
  {
   "cell_type": "code",
   "execution_count": 177,
   "metadata": {
    "collapsed": false,
    "deletable": true,
    "editable": true
   },
   "outputs": [
    {
     "name": "stdout",
     "output_type": "stream",
     "text": [
      "Mean Square Error(MSE):  Linear Regression 150.737088| Decision Tree 13.420670\n",
      "Mean Absolute Error (MAE):  Linear Regression 10.257624| Decision Tree 2.684123\n"
     ]
    }
   ],
   "source": [
    "mse_tree = true_vs_predicted_tree.map(lambda (t, p): squared_error(t, p)).mean() \n",
    "mae_tree = true_vs_predicted_tree.map(lambda (t, p): abs_error(t, p)).mean() \n",
    "\n",
    "\n",
    "print \"Mean Square Error(MSE):  Linear Regression %f\" %mse_bin  + \"| Decision Tree %f\" %mse_tree\n",
    "\n",
    "print \"Mean Absolute Error (MAE):  Linear Regression %f\" %mae_bin  + \"| Decision Tree %f\" %mae_tree\n",
    "\n",
    " "
   ]
  },
  {
   "cell_type": "markdown",
   "metadata": {
    "collapsed": true,
    "deletable": true,
    "editable": true
   },
   "source": [
    "# Problem 4"
   ]
  },
  {
   "cell_type": "markdown",
   "metadata": {},
   "source": [
    "Calculate the RMSL error for the first linear regression model calculated in Problem 1"
   ]
  },
  {
   "cell_type": "code",
   "execution_count": 188,
   "metadata": {
    "collapsed": false
   },
   "outputs": [
    {
     "name": "stdout",
     "output_type": "stream",
     "text": [
      "0.715926436898\n"
     ]
    }
   ],
   "source": [
    "import math\n",
    "def squared_log_error(pred, actual):    \n",
    "    return (np.log(pred + 1) - np.log(actual + 1))**2 \n",
    "\n",
    "rmsle = np.sqrt(true_vs_predicted.map(lambda (t, p): squared_log_error(t,p)).mean()) \n",
    "\n",
    "print rmsle"
   ]
  },
  {
   "cell_type": "markdown",
   "metadata": {},
   "source": [
    "Now we recalculate the RMSLE using different parameters to feed the model. Using regularization L2"
   ]
  },
  {
   "cell_type": "code",
   "execution_count": 229,
   "metadata": {
    "collapsed": false
   },
   "outputs": [
    {
     "name": "stdout",
     "output_type": "stream",
     "text": [
      "[1, 5, 10, 20, 50, 100, 500, 1000, 2000, 3000]\n",
      "[2.9565523017728097, 2.0030457444244507, 1.6394250953478053, 1.3110754358133967, 0.93708363001884221, 0.71592643689771196, 0.71592643689771196, 0.71592643689771196, 0.71592643689771196, 0.71592643689771196]\n"
     ]
    }
   ],
   "source": [
    "def evaluate(train, test, iterations, step, regParam,regType,intercept):\n",
    "    model = LinearRegressionWithSGD.train(train,iterations,step,regParam=regParam, regType=regType, intercept=intercept)\n",
    "    tp = test.map(lambda p: (p.label, model.predict(p.features)))\n",
    "    rmsle = np.sqrt(tp.map(lambda (t, p): squared_log_error(t,p)).mean())\n",
    "    return rmsle \n",
    "\n",
    "train_rmsle = training_data.filter(lambda v: v[3]<>\"NA\").map(lambda r: LabeledPoint(float(r[3]),np.array(r[2:3])))\n",
    "test_rmsle = test_data.filter(lambda v: v[3]<>\"NA\").map(lambda r: LabeledPoint(float(r[3]),np.array(r[2:3])))\n",
    " \n",
    "#number of iterations\n",
    "params = [1, 5, 10, 20, 50, 100, 500, 1000, 2000, 3000]\n",
    "metrics = [evaluate(train_rmsle, test_rmsle, param, 0.000001, 0.0, 'l2',False) for param in params]\n",
    "print params\n",
    "print metrics  #increase in  the number of iterations decreases the error\n",
    "\n"
   ]
  },
  {
   "cell_type": "markdown",
   "metadata": {},
   "source": [
    "Plot previous results"
   ]
  },
  {
   "cell_type": "code",
   "execution_count": 234,
   "metadata": {
    "collapsed": false
   },
   "outputs": [
    {
     "data": {
      "text/plain": [
       "<matplotlib.text.Text at 0x7f8a0a409b90>"
      ]
     },
     "execution_count": 234,
     "metadata": {},
     "output_type": "execute_result"
    },
    {
     "data": {
      "image/png": "[encoded data removed]",
      "text/plain": [
       "<matplotlib.figure.Figure at 0x7f8a0ab37ad0>"
      ]
     },
     "metadata": {},
     "output_type": "display_data"
    }
   ],
   "source": [
    "plt.plot(params, metrics)\n",
    "plt.xscale('log')\n",
    "plt.xlabel('number of iterations')\n",
    "plt.ylabel('RMSLE')"
   ]
  },
  {
   "cell_type": "markdown",
   "metadata": {},
   "source": [
    "It seems from the previous that the model reaches a point where increasing the number of iterations does not improve the model, since the error remains the same.\n",
    "\n",
    "Next steps is to add the step value to tue equation as a parameter "
   ]
  },
  {
   "cell_type": "code",
   "execution_count": 231,
   "metadata": {
    "collapsed": false
   },
   "outputs": [
    {
     "name": "stdout",
     "output_type": "stream",
     "text": [
      "[1e-07, 1e-06, 1e-05, 0.0001, 0.001, 0.01, 0.1, 1.0]\n",
      "[3.6678256677324379, 0.71592643689771196, 0.31720391423713545, 0.31025992265910929, nan, nan, nan, nan]\n"
     ]
    }
   ],
   "source": [
    "params_step = [0.0000001, 0.000001, 0.00001, 0.0001, 0.001, 0.01, 0.1, 1.0]\n",
    "metrics_step = [evaluate(train_rmsle, test_rmsle, 100, param, 0.0, 'l2',False) for param in params_step]\n",
    "print params_step\n",
    "print metrics_step"
   ]
  },
  {
   "cell_type": "code",
   "execution_count": 233,
   "metadata": {
    "collapsed": false
   },
   "outputs": [
    {
     "data": {
      "text/plain": [
       "<matplotlib.text.Text at 0x7f8a0a5fa4d0>"
      ]
     },
     "execution_count": 233,
     "metadata": {},
     "output_type": "execute_result"
    },
    {
     "data": {
      "image/png": "[encoded data removed]",
      "text/plain": [
       "<matplotlib.figure.Figure at 0x7f8a0a839d10>"
      ]
     },
     "metadata": {},
     "output_type": "display_data"
    }
   ],
   "source": [
    "plt.plot(params_step, metrics_step)\n",
    "plt.xscale('log')\n",
    "plt.xlabel('Step size')\n",
    "plt.ylabel('RMSLE')"
   ]
  },
  {
   "cell_type": "code",
   "execution_count": null,
   "metadata": {
    "collapsed": true
   },
   "outputs": [],
   "source": []
  }
 ],
 "metadata": {
  "kernelspec": {
   "display_name": "Python 2",
   "language": "python",
   "name": "python2"
  },
  "language_info": {
   "codemirror_mode": {
    "name": "ipython",
    "version": 2
   },
   "file_extension": ".py",
   "mimetype": "text/x-python",
   "name": "python",
   "nbconvert_exporter": "python",
   "pygments_lexer": "ipython2",
   "version": "2.7.12"
  }
 },
 "nbformat": 4,
 "nbformat_minor": 2
}
