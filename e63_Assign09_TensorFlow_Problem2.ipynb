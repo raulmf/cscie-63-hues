{
 "cells": [
  {
   "cell_type": "markdown",
   "metadata": {
    "deletable": true,
    "editable": true
   },
   "source": [
    "# Problem 2"
   ]
  },
  {
   "cell_type": "markdown",
   "metadata": {
    "deletable": true,
    "editable": true
   },
   "source": [
    "### Linear fit"
   ]
  },
  {
   "cell_type": "code",
   "execution_count": 42,
   "metadata": {
    "collapsed": false,
    "deletable": true,
    "editable": true
   },
   "outputs": [
    {
     "data": {
      "image/png": "[encoded data removed]",
      "text/plain": [
       "<matplotlib.figure.Figure at 0x7f79b4e53e50>"
      ]
     },
     "metadata": {},
     "output_type": "display_data"
    }
   ],
   "source": [
    "\"\"\"\n",
    "Linear regression example in TensorFlow\n",
    "This program tries to predict the number of thefts from \n",
    "the number of fire in the city of Chicago\n",
    "\"\"\"\n",
    "\n",
    "import numpy as np\n",
    "import matplotlib.pyplot as plt\n",
    "import tensorflow as tf\n",
    "import xlrd\n",
    "\n",
    "DATA_FILE = 'fire_theft.xls'\n",
    "\n",
    "# Step 1: read in data from the .xls file\n",
    "book = xlrd.open_workbook(DATA_FILE, encoding_override=\"utf-8\")\n",
    "sheet = book.sheet_by_index(0)\n",
    "data = np.asarray([sheet.row_values(i) for i in range(1, sheet.nrows)])\n",
    "n_samples = sheet.nrows - 1\n",
    "\n",
    "# Step 2: create placeholders for input X (number of fire) and label Y (number of theft)\n",
    "X = tf.placeholder(tf.float32, name='X')\n",
    "Y = tf.placeholder(tf.float32, name='Y')\n",
    "\n",
    "# Step 3: create weight and bias, initialized to 0\n",
    "w = tf.Variable(0.0, name='weights')\n",
    "b = tf.Variable(0.0, name='bias')\n",
    "\n",
    "# Step 4: build model to predict Y\n",
    "Y_predicted = X * w + b \n",
    "\n",
    "# Step 5: use the square error as the loss function\n",
    "loss = tf.square(Y - Y_predicted, name='loss')\n",
    "\n",
    "# Step 6: using gradient descent with learning rate of 0.0000001 to minimize loss\n",
    "optimizer = tf.train.GradientDescentOptimizer(learning_rate=0.0000001).minimize(loss)\n",
    "\n",
    "with tf.Session() as sess:\n",
    "\t# Step 7: initialize the necessary variables, in this case, w and b\n",
    "\tsess.run(tf.global_variables_initializer()) \n",
    "\t\n",
    "\twriter = tf.summary.FileWriter('./linear_reg', sess.graph)\n",
    "\t\n",
    "\t# Step 8: train the model\n",
    "\tfor i in range(500): # train the model 500 times\n",
    "\t\ttotal_loss = 0\n",
    "\t\tfor x, y in data:\n",
    "\t\t\t# Session runs train_op and fetch values of loss\n",
    "\t\t\t_, l = sess.run([optimizer, loss], feed_dict={X: x, Y:y}) \n",
    "\t\t\ttotal_loss += l\n",
    "\t\t#print 'Epoch {0}: {1}'.format(i, total_loss/n_samples)\n",
    "\n",
    "\t# close the writer when you're done using it\n",
    "\twriter.close() \n",
    "\t\n",
    "\t# Step 9: output the values of w and b\n",
    "\tw_value, b_value = sess.run([w, b]) \n",
    "\n",
    "# plot the results\n",
    "X, Y = data.T[0], data.T[1]\n",
    "plt.plot(X, Y, 'bo', label='Real data')\n",
    "plt.plot(X, X * w_value + b_value, 'ro', label='Predicted data')\n",
    "plt.legend()\n",
    "plt.show()"
   ]
  },
  {
   "cell_type": "markdown",
   "metadata": {
    "deletable": true,
    "editable": true
   },
   "source": [
    "### Quad fit"
   ]
  },
  {
   "cell_type": "code",
   "execution_count": 38,
   "metadata": {
    "collapsed": false,
    "deletable": true,
    "editable": true
   },
   "outputs": [
    {
     "data": {
      "image/png": "[encoded data removed]",
      "text/plain": [
       "<matplotlib.figure.Figure at 0x7f79a3e917d0>"
      ]
     },
     "metadata": {},
     "output_type": "display_data"
    }
   ],
   "source": [
    "\"\"\"\n",
    "Quadratic regression example in TensorFlow\n",
    "This program tries to predict the number of thefts from \n",
    "the number of fire in the city of Chicago\n",
    "\"\"\"\n",
    "\n",
    "import numpy as np\n",
    "import matplotlib.pyplot as plt\n",
    "import tensorflow as tf\n",
    "import xlrd\n",
    "\n",
    "DATA_FILE = 'fire_theft.xls'\n",
    "\n",
    "# Step 1: read in data from the .xls file\n",
    "book = xlrd.open_workbook(DATA_FILE, encoding_override=\"utf-8\")\n",
    "sheet = book.sheet_by_index(0)\n",
    "data = np.asarray([sheet.row_values(i) for i in range(1, sheet.nrows)])\n",
    "n_samples = sheet.nrows - 1\n",
    "\n",
    "# Step 2: create placeholders for input X (number of fire) and label Y (number of theft)\n",
    "X = tf.placeholder(tf.float32, name='X')\n",
    "Y = tf.placeholder(tf.float32, name='Y')\n",
    "\n",
    "# Step 3: create weight and bias, initialized to 0\n",
    "w = tf.Variable(0.0, name='weights_1')\n",
    "u = tf.Variable(0.0, name='weights_2')\n",
    "b = tf.Variable(0.0, name='bias')\n",
    "\n",
    "# Step 4: build model to predict Y\n",
    "Y_predicted = X * X * w + X * u + b \n",
    "\n",
    "# Step 5: use the square error as the loss function\n",
    "loss = tf.square(Y - Y_predicted, name='loss')\n",
    "\n",
    "# Step 6: using gradient descent with learning rate of 0.0000001 to minimize loss\n",
    "optimizer = tf.train.GradientDescentOptimizer(learning_rate=0.0000001).minimize(loss)\n",
    "\n",
    "with tf.Session() as sess:\n",
    "\t# Step 7: initialize the necessary variables, in this case, w and b\n",
    "\tsess.run(tf.global_variables_initializer()) \n",
    "\t\n",
    "\twriter = tf.summary.FileWriter('./quad_reg', sess.graph)\n",
    "\t\n",
    "\t# Step 8: train the model\n",
    "\tfor i in range(500): # train the model 500 times\n",
    "\t\ttotal_loss = 0\n",
    "\t\tfor x, y in data:\n",
    "\t\t\t# Session runs train_op and fetch values of loss\n",
    "\t\t\t_, l = sess.run([optimizer, loss], feed_dict={X: x, Y:y}) \n",
    "\t\t\ttotal_loss += l\n",
    "\t\t#print 'Epoch {0}: {1}'.format(i, total_loss/n_samples)\n",
    "\n",
    "\t# close the writer when you're done using it\n",
    "\twriter.close() \n",
    "\t\n",
    "\t# Step 9: output the values of w and b\n",
    "\tw_value, u_value, b_value = sess.run([w, u, b]) \n",
    "\n",
    "# plot the results\n",
    "X, Y = data.T[0], data.T[1]\n",
    "plt.plot(X, Y, 'bo', label='Real data')\n",
    "plt.plot(X, X * X * w_value + X * u_value + b_value, 'ro', label='Predicted data')\n",
    "plt.legend()\n",
    "plt.show()"
   ]
  },
  {
   "cell_type": "markdown",
   "metadata": {
    "deletable": true,
    "editable": true
   },
   "source": [
    "## Cubic fit"
   ]
  },
  {
   "cell_type": "code",
   "execution_count": 41,
   "metadata": {
    "collapsed": false,
    "deletable": true,
    "editable": true
   },
   "outputs": [
    {
     "data": {
      "image/png": "[encoded data removed]",
      "text/plain": [
       "<matplotlib.figure.Figure at 0x7f79b40d07d0>"
      ]
     },
     "metadata": {},
     "output_type": "display_data"
    }
   ],
   "source": [
    "\"\"\"\"\n",
    "Cubic regression example in TensorFlow\n",
    "This program tries to predict the number of thefts from \n",
    "the number of fire in the city of Chicago\n",
    "\"\"\"\n",
    "\n",
    "import numpy as np\n",
    "import matplotlib.pyplot as plt\n",
    "import tensorflow as tf\n",
    "import xlrd\n",
    "\n",
    "DATA_FILE = 'fire_theft.xls'\n",
    "\n",
    "# Step 1: read in data from the .xls file\n",
    "book = xlrd.open_workbook(DATA_FILE, encoding_override=\"utf-8\")\n",
    "sheet = book.sheet_by_index(0)\n",
    "data = np.asarray([sheet.row_values(i) for i in range(1, sheet.nrows)])\n",
    "n_samples = sheet.nrows - 1\n",
    "\n",
    "# Step 2: create placeholders for input X (number of fire) and label Y (number of theft)\n",
    "X = tf.placeholder(tf.float32, name='X')\n",
    "Y = tf.placeholder(tf.float32, name='Y')\n",
    "\n",
    "# Step 3: create weight and bias, initialized to 0\n",
    "w = tf.Variable(0.0, name='weights_1')\n",
    "v = tf.Variable(0.0, name='weights_2')\n",
    "u = tf.Variable(0.0, name='weights_2')\n",
    "b = tf.Variable(0.0, name='bias')\n",
    "\n",
    "# Step 4: build model to predict Y\n",
    "Y_predicted = X * X * X  * w + X * X * v + X * u + b \n",
    "\n",
    "# Step 5: use the square error as the loss function\n",
    "loss = tf.square(Y - Y_predicted, name='loss')\n",
    "\n",
    "# Step 6: using gradient descent with learning rate of 0.000000001 to minimize loss\n",
    "optimizer = tf.train.GradientDescentOptimizer(learning_rate=0.000000001).minimize(loss)\n",
    "\n",
    "with tf.Session() as sess:\n",
    "\t# Step 7: initialize the necessary variables, in this case, w and b\n",
    "\tsess.run(tf.global_variables_initializer()) \n",
    "\t\n",
    "\twriter = tf.summary.FileWriter('./cubic_reg', sess.graph)\n",
    "\t\n",
    "\t# Step 8: train the model\n",
    "\tfor i in range(500): # train the model 500 times\n",
    "\t\ttotal_loss = 0\n",
    "\t\tfor x, y in data:\n",
    "\t\t\t# Session runs train_op and fetch values of loss\n",
    "\t\t\t_, l = sess.run([optimizer, loss], feed_dict={X: x, Y:y}) \n",
    "\t\t\ttotal_loss += l\n",
    "\t\t#print 'Epoch {0}: {1}'.format(i, total_loss/n_samples)\n",
    "\n",
    "\t# close the writer when you're done using it\n",
    "\twriter.close() \n",
    "\t\n",
    "\t# Step 9: output the values of w and b\n",
    "\tw_value, v_value, u_value, b_value = sess.run([w, v, u, b]) \n",
    "\n",
    "# plot the results\n",
    "X, Y = data.T[0], data.T[1]\n",
    "plt.plot(X, Y, 'bo', label='Real data')\n",
    "plt.plot(X, X * X * X * w_value + X * X * v_value + X * u_value + b_value, 'ro', label='Predicted data')\n",
    "plt.legend()\n",
    "plt.show()"
   ]
  },
  {
   "cell_type": "code",
   "execution_count": null,
   "metadata": {
    "collapsed": true,
    "deletable": true,
    "editable": true
   },
   "outputs": [],
   "source": []
  }
 ],
 "metadata": {
  "kernelspec": {
   "display_name": "Python 2",
   "language": "python",
   "name": "python2"
  },
  "language_info": {
   "codemirror_mode": {
    "name": "ipython",
    "version": 2
   },
   "file_extension": ".py",
   "mimetype": "text/x-python",
   "name": "python",
   "nbconvert_exporter": "python",
   "pygments_lexer": "ipython2",
   "version": "2.7.12+"
  }
 },
 "nbformat": 4,
 "nbformat_minor": 2
}
