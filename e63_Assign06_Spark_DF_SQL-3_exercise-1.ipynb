{
 "cells": [
  {
   "cell_type": "markdown",
   "metadata": {},
   "source": [
    "Lists content of the 2 movie text files"
   ]
  },
  {
   "cell_type": "code",
   "execution_count": 1,
   "metadata": {
    "collapsed": false
   },
   "outputs": [
    {
     "name": "stdout",
     "output_type": "stream",
     "text": [
      "::::::::::::::\n",
      "the-lego-batman-movie.txt\n",
      "::::::::::::::\n",
      "﻿The LEGO Batman Movie\r\n",
      "\r\n",
      "Over Gotham City airspace, two best friend pilots are transporting an insane amount of explosives. They are hijacked by The Joker (voice of Zach Galifianakis) and his minions. Across the city, Joker has set loose some of Gotham's most notorious criminals, including Harley Quinn (voice of Jenny Slate), Two-Face (voice of Billy Dee Williams), The Riddler (voice of Conan O'Brien), Scarecrow (voice of Jason Mantzoukas), Catwoman (voice of Zoe Kravitz), Poison Ivy (voice of Riki Lindhome), Clayface (voice of Kate Miccuci), Bane (voice of Doug Benson), Mr. Freeze, The Penguin, and some C-list villains like Calendar Man, Gentleman Ghost, and Condiment King. The pilot knows Batman (voice Will Arnett) will stop Joker, but he believes otherwise.\r\n",
      "\r\n",
      "Beneath the city's central core, Joker has Killer Croc plant a bomb that would level Gotham and plunge it into an abyss. Commissioner Jim Gordon (voice of Hector Elizondo) tries to use the Bat-signal to contact Batman, but Eggman has egged it down. Jim and Chief O'Hara go downtown to spring into action while the villains continue to run amok. Jim meets with Mayor McCaskill (voice of Mariah Carey) before she is airlifted to the central core. Joker and his villains are all gathered to watch the city be destroyed, but the Mayor reveals herself to be Batman in disguise. He proceeds to single-handedly beat down every villain before trying to catch The Joker. Batman latches onto Joker with his grappling hook but Joker reminds him that the bomb is still active. When Joker calls himself Batman's worst enemy, Batman rebuffs it by stating that Joker means nothing to him, and that nobody does. Joker looks heartbroken as Batman rushes to stop the bomb. He succeeds, and the city cheers Batman on.\r\n",
      "\r\n",
      "Batman returns to his home on his own island. He spends his free time alone in the Batcave, eating leftover lobster thermidor and cackling maniacally during \"Jerry Maguire\". Batman later stares at a portrait of himself as a child with his parents on the night they died. He starts addressing the portrait and says his parents would have been proud that he saved the city again. He is then startled by Alfred (voice of Ralph Fiennes), so Batman accidentally dropkicks him into the piano. After apologizing, Alfred realizes that Batman is going through another one of his phases and is just sad at the prospect of having another family. Alfred then reminds Batman that there is a gala later that day for Jim Gordon's retirement, which Batman reluctantly goes to.\r\n",
      "\r\n",
      "On the way to the gala, Batman (now out of disguise as Bruce Wayne) watches a news report on how Superman (voice of Channing Tatum) sent General Zod into the Phantom Zone. Joker is watching the same report in his lair with Harley and sees certain famous villains beyond the realm of Gotham City are contained there. Thus, Joker hatches his latest idea.\r\n",
      "\r\n",
      "At the gala, Bruce is approached by an orphan, Dick Grayson (voice of Michael Cera). He's a sweet kid who longs for another family. Dick asks Bruce if he would consider adopting him, just as Bruce's attention is caught by the new commissioner, Jim's daughter Barbara (Rosario Dawson). She gets up to talk to the citizens of Gotham about her latest idea: she wants the police force to team up with Batman because on his own, he hasn't done much to take care of the huge crime problem in the city. Bruce does not like the idea one bit, and moments later, the gala is interrupted by Joker and his villain team. Bruce goes into Batman mode and Master-Builds himself a vehicle while Barbara attempts to confront Joker on her own terms. To everyone's surprise, Joker surrenders himself and all the villains (except Harley) to the police. With Gotham's worst all locked up, Barbara receives credit while Batman is left to go home in disbelief.\r\n",
      "\r\n",
      "Batman stalks Arkham Asylum for any suspicious activity. He sees a van driven by Harley (now out of disguise as Harleen Quinzel) with the logo \"Phantom's Own Laundry Service\". He knows something suspicious is going on, but Barbara sees him and tells him to let the police worry about it.\r\n",
      "\r\n",
      "Back at Wayne Manor, Batman tries to access Joker's plans through the computer, but Alfred put a parental lock on the computer. He tells Batman that he should spend time with Dick, whom he had adopted over a week ago. Batman is baffled and refuses to do anything with the boy until Alfred purposely leads Dick into the Batcave. Dick is amazed to know that Batman is one of his new dads. Meanwhile, Batman schemes to put Joker in the Phantom Zone, but he must steal the Phantom Zone Projector, which is located in Superman's Fortress of Solitude. When the computer determines that Batman is way too \"jacked\" to fit into the vents that would take him to the Projector's location, he gets the idea to have Dick join him so that he can fetch it. Dick goes through Batman's costumes for a cool outfit to wear, and he settles on Batman's \"Reggae Man\" outfit and names himself Robin.\r\n",
      "\r\n",
      "The Dynamic Duo arrive at the Fortress of Solitude. While Robin goes to find the Projector, Batman creates a diversion by knocking on Superman's door. To Batman's surprise, Superman and the rest of the Justice League - including Green Lantern (voice of Jonah Hill), Flash (voice of Adam Devine), Wonder Woman, Cyborg, Aquaman, Martian Manhunter, and the Wonder Twins - are celebrating an anniversary party without having invited Batman. A dejected Batman leaves when nobody is looking just as Robin has gotten through the complicated security system to retrieve the Projector. Batman almost admits that he's proud of Robin, but he's also too proud to admit it.\r\n",
      "\r\n",
      "Batman and Robin head on down to Arkham to take on Joker. Barbara finds them and has them go through security. When Robin is caught trying to smuggle the Projector, the two beat up the guards and run to Joker's cell. Just as he expected, Batman confronts Joker and hits him with the Projector, sending him into the Phantom Zone.\r\n",
      "\r\n",
      "In the Phantom Zone, Joker is met by a sentient brick called Phyllis (voice of Ellie Kemper). After scanning Joker for badness, she has him meet some of the most notorious villains of all time, like Lord Voldemort (voice of Eddie Izzard), Sauron (voice of Jemaine Clement), King Kong (voice of Seth Green), The Kraken, Jaws, Agent Smith, Dracula, Medusa, The Wicked Witch of the West, the Gremlins, and the Daleks. He tells the villains that he has a plan to get them all out of there. Back in Arkham, Harley steals the Projector and uses it to bring back every last villain. Joker unleashes them all on the city to cause mass mayhem. Sauron floods the streets with lava, Voldemort turns people into animals, and King Kong smashes through the city.\r\n",
      "\r\n",
      "Batman (who got himself and Robin locked up) asks Barbara to let him go so that he can go save the city. She agrees only on the condition that he allow her to join and help. Batman begrudgingly agrees, and he is now joined by Barbara, Robin, and Alfred (who somehow made it from Wayne Manor to Arkham on his own). The heroes take the Batwing across the city as they try to locate Joker. Sauron has his eye locked on Batman and has led Joker to Wayne Manor, where Joker finds Batman's stash of romantic comedies.\r\n",
      "\r\n",
      "The Gremlins start tearing into the Batwing, leading Batman to hop outside and leave the Batwing on autopilot with some rope tied to the controls. Robin and Alfred join him in taking out the Gremlins. Robin falls off the Batwing, and Batman jumps to rescue him. Alfred falls off too and nearly plummets to his death, but Barbara takes control of the Batwing and saves him. Batman then comes up with a plan and has Barbara fly toward Sauron's eye, just as Kraken blasts a fireball at the Batwing. At the right moment, Barbara steers the Batwing away and causes Sauron to get blown to bits, meaning Joker no longer has an eye on Batman.\r\n",
      "\r\n",
      "The heroes make it to Wayne Island and applaud each other for their accomplishments. Robin takes a selfie with everyone as his new family, which then strikes a nerve with Batman. The other three go into the Batwing for more gear, but Batman locks them in there and has the computer send them to the border of Gotham City and Bludhaven so that he can protect them and fight Joker on his own.\r\n",
      "\r\n",
      "Batman finds Joker inside his home, but Batman is surrounded by all the villains, completely outnumbered. Joker only wants to hear Batman say that he hates him and considers him his worst enemy, but Batman is stubborn and refuses to acknowledge it. Joker takes the Projector and sends Batman to the Phantom Zone.\r\n",
      "\r\n",
      "Batman meets Phyllis, who scans him and determines that while he's not bad enough to be considered a villain, he has done a lot of bad things to people that care about him. Batman realizes he has been trying to protect himself from getting hurt again. He makes a deal with Phyllis to bring back all the villains if she lets him go back to Gotham.\r\n",
      "\r\n",
      "Batman's computer overrides his commands to protect him and sends Robin, Barbara, and Alfred back to the island to fight the villains. Batman is sent back as well, and he apologizes to his friends for deceiving them. He opts to get help not only from them, but from all of his enemies broken out of Arkham. He even gives Barbara her own suit, dubbing her \"Batgirl\".\r\n",
      "\r\n",
      "The team faces off against Joker's villains, with all of them being gradually sent back to the Phantom Zone. However, the bomb from earlier goes off and starts to break the city apart. Batman and his friends all form a chain link using their heads and feet to pull the city back together, along with the citizens of Gotham. It's still not enough, so Batman is forced to ask for Joker's help. Batman admits to Joker that he truly is his greatest enemy and that they need each other. Joker is touched and helps Batman pull the city back together.\r\n",
      "\r\n",
      "With the city saved, Batman must fulfill his end of the bargain and return to the Phantom Zone. He reveals himself as Bruce Wayne to Robin and finally accepts him as a son. They have a tearful hug goodbye as Batman ascends to the Phantom Zone. However, he gets blocked from going up. Phyllis appears and tells Batman that she has seen how he changed to help those that he cares about, and has decided he can stay with his friends. Batman and Joker then part ways as Joker heads off with the rest of the rogues. Batman decides to give them a 30-minute head start before he and his team go catch them.\r\n",
      "\r\n",
      "Batman and Robin are both now part of a new family. Batman hangs up the family selfie in his room. As the credits begin, Robin asks Batman if he can play a song that he's written specifically for the credits. Batman and all his friends and enemies get together to perform the song."
     ]
    }
   ],
   "source": [
    "%%%bash\n",
    "more the-lego-batman-movie.txt"
   ]
  },
  {
   "cell_type": "code",
   "execution_count": 2,
   "metadata": {
    "collapsed": false
   },
   "outputs": [
    {
     "name": "stdout",
     "output_type": "stream",
     "text": [
      "::::::::::::::\n",
      "fifty-shades-darker.txt\n",
      "::::::::::::::\n",
      "﻿Fifty Shades Darker\r\n",
      "\r\n",
      "In this sequel to 'Fifty Shades of Grey', the opening scene shows Christian Grey (Jamie Dornan) having a nightmare about his childhood. He overhears his mother being abused by his father. Young Christian hides, but his father finds him and prepares to abuse him with his cigarette.\r\n",
      "\r\n",
      "Meanwhile, Anastasia Steele (Dakota Johnson) has found a new job at the publishing firm Seattle Independent Publishing as an assistant to her boss Jack Hyde (Eric Johnson). Christian sends her flowers to congratulate her. She is about to throw them out but decides to keep them. As Ana is out around town, she is followed by a strange woman (Bella Heathcote).\r\n",
      "\r\n",
      "That night, Ana attends an art show for her friend Jose (Victor Rasuk). She's unnerved to find six pictures of herself hanging from the walls. The art director then approaches Jose to tell him that somebody has bought all six pictures. Of course it's Christian. He approaches Ana and wants to fix their relationship over dinner. Ana agrees only because she's hungry.\r\n",
      "\r\n",
      "Over dinner, Christian explains that he wants to take Ana back to be his submissive mate, and he is willing to negotiate with her on her terms. She just wants him to not inflict his dominant desires upon her, to which he agrees. Eventually, they renew their relationship and start having kinky sex again.\r\n",
      "\r\n",
      "Jack invites Ana out for drinks. Before meeting with Jack, Ana is approached by the woman who was following her. She knows Ana's name and says little before Jack pulls Ana away. Christian finds them in the bar and is suspicious of Jack's true intentions when he catches Jack acting a bit flirty toward Ana. Later at home, Christian informs Ana that he bought SIP and will essentially be her and Jack's boss. Ana isn't too thrilled at this concept.\r\n",
      "\r\n",
      "Ana sees the same strange woman out on the streets while out for breakfast with Christian. She asks him who the woman is. At Christian's home, he takes out a file with pictures of this woman. Christian explains that the woman's name is Leila Williams, and she was a former submissive of Christian's. She wanted more from the relationship than Christian did, so they parted ways. Leila got married to another man, but he later died in a car accident, leading to Leila having a nervous breakdown. Ana asks Christian if he has a file on her as well. Without an answer, she know he does and demands to see it.\r\n",
      "\r\n",
      "In Christian's room, Ana sees a picture of his birth mother, who slightly resembles Ana. Christian mentions that she was a crack addict who died of an overdose when he was age 4 and was not found for three days while he stayed with her body. He later met his stepmother Grace (Marcia Gay Harden) at the hospital, and she would later care for the boy.\r\n",
      "\r\n",
      "Christian invites Ana to a ball. He takes her to a salon in preparation and runs into Elena Lincoln (Kim Basinger), the woman that got Christian into the BDSM lifestyle. Ana is none too happy since she knows Elena was Christian's dominant. Christian assures Ana that Elena is just a business partner since they co-own the salon. It does nothing to ease Ana's mind.\r\n",
      "\r\n",
      "Before they head off to the ball, Christian takes out Ben Wa balls for Ana to put in her vagina for consistent pleasure during the party. He then tells her it is a masquerade ball. The two meet with Grace and Christian's adoptive sister Mia (Rita Ora). They sit for a bidding to a luxury vacation, which Ana wins when she bids $24,000 that Christian had transferred into her bank account. In the bathroom, Elena approaches Ana and urges her to break it off with Christian before both of them get hurt. Ana tells Elena to leave them alone.\r\n",
      "\r\n",
      "In the parking garage at Christian's home, he and Ana find that Ana's car has been vandalized.\r\n",
      "\r\n",
      "Ana and Christian later go on their romantic getaway on Christian's boat, which he named after Grace.\r\n",
      "\r\n",
      "Back at work, Jack is more cold to Ana after learning Christian is her boyfriend. He reminds her to set up a meeting in New York between himself and other publishers, plus to get a room for herself since his assistant needs to be with him. Later, Jack tries to seduce Ana in his office but comes off like a predator. Ana kicks Jack in the groin and runs out of the building. Christian is outside as Ana runs into his arms telling him what Jack tried to do. Christian later has Jack fired.\r\n",
      "\r\n",
      "With Jack gone, Ana is given a temporary position to his old job as acting editor. She attends a meeting with the higher-ups and offers a suggestion that they reach out to a broader demographic instead of just publishing to established readers.\r\n",
      "\r\n",
      "Christian asks Ana to move in with her, and she agrees. As they go to pick up Ana's stuff from her place, Leila is there, having been stalking both Ana and Christian. Leila pulls out a gun. Ana tries to placate her by making it seem like Christian still cares about her. Christian and his bodyguard Taylor (Max Martini) arrive after Leila has already fired a shot at the wall. Christian orders Leila to get on her knees, and she immediately obeys. Ana thinks Christian can't get off without being dominant, and she leaves the house for hours. Meanwhile, Leila is sent to a psych ward to get help.\r\n",
      "\r\n",
      "When Ana returns home, Christian is pissed at her until Ana explains her feelings toward his dominance. He then turns submissive to Ana and gets on his knees so that she won't leave him. Ana gives in and they go off to have sex.\r\n",
      "\r\n",
      "Christian has another nightmare while Ana is awake. She goes over to comfort him in bed. He then asks Ana to marry him, but she doesn't give an answer because she needs time to consider.\r\n",
      "\r\n",
      "Christian goes with a business partner to a trip in Portland. As he returns from the trip, his helicopter's engine breaks down, causing them to crash into a forest. Ana hears the news while out for drinks with Kate (Eloise Mumford), Elliott (Luke Grimes), and Jose. Ana waits and watches the news with Christian's family. Just as it is reported that Christian was found, he walks into the apartment. Everyone embraces him.\r\n",
      "\r\n",
      "Ana later finds out from Mia that Christian's birthday is coming up, as he failed to mention. Ana gets him a keychain with \"Yes!\" written on the back, meaning she has accepted his proposal. Christian is elated.\r\n",
      "\r\n",
      "The couple attend a birthday party for Christian. He announces his and Ana's engagement to the whole party. Elena later confronts Ana and accuses her of being after Christian's money and not actually loving him. Ana throws her drink in Elena's face. Christian orders her to leave. Grace overhears the confrontation and slaps Elena before demanding she leave the house.\r\n",
      "\r\n",
      "Christian takes Ana to a nearby boathouse where he proposes with an actual engagement ring. She accepts, and fireworks start to pop. The couple join Christian's family to watch the fireworks together. Meanwhile, across the lake, Jack is watching the fireworks and looks really worn out. He holds a picture of the Grey family and burns out Christian's face with a cigarette.\r\n",
      "\r\n",
      "Note: After the end credits, there is a brief teaser for \"Fifty Shades Freed\", which sees Ana and Christian about to get married, plus the promise of more kinky sex."
     ]
    }
   ],
   "source": [
    "%%%bash\n",
    "more fifty-shades-darker.txt"
   ]
  },
  {
   "cell_type": "markdown",
   "metadata": {},
   "source": [
    "Instantiates Spark Context"
   ]
  },
  {
   "cell_type": "code",
   "execution_count": 3,
   "metadata": {
    "collapsed": false
   },
   "outputs": [],
   "source": [
    "from pyspark import SparkContext, SparkConf\n",
    "conf = SparkConf().setAppName(\"Spark Count\")\n",
    "sc = SparkContext(conf=conf)"
   ]
  },
  {
   "cell_type": "markdown",
   "metadata": {},
   "source": [
    "All individual words for the 2 movie articles"
   ]
  },
  {
   "cell_type": "code",
   "execution_count": 4,
   "metadata": {
    "collapsed": false
   },
   "outputs": [
    {
     "name": "stdout",
     "output_type": "stream",
     "text": [
      "(u'', 19), (u'all', 12), (u'Killer', 1), (u'consider', 1), (u'chain', 1), (u'Gremlins', 1), (u'Jim', 4), (u'son.', 1), (u'there.', 2), (u'leads', 1), (u'Gotham', 5), (u'Wayne', 5), (u'Joker,', 1), (u'Joker.', 3), (u'go', 8), (u'Scarecrow', 1), (u'causes', 1), (u'hijacked', 1), (u'up.', 1), (u\"Gordon's\", 1), (u'up,', 1), (u'up)', 1), (u'send', 1), (u'to', 76), (u'finally', 1), (u'Bat-signal', 1), (u'helps', 1), (u'sent', 3), (u'League', 1), (u\"Jim's\", 1), (u'rescue', 1), (u'otherwise.', 1), (u'song', 1), (u'Voldemort', 2), (u'Joker', 30), (u'\"Phantom\\'s', 1), (u'every', 2), (u'explosives.', 1), (u'Daleks.', 1), (u'condition', 1), (u'cool', 1), (u'Just', 1), (u'level', 1), (u'help.', 2), (u'turns', 1), (u'accidentally', 1), (u'try', 1), (u'team', 3), (u'rebuffs', 1), (u'Maguire\".', 1), (u'says', 1), (u'other.', 1), (u'streets', 1), (u'badness,', 1), (u'eating', 1), (u'even', 1), (u'saved,', 1), (u'apologizes', 1), (u'Ghost,', 1), (u'Bruce', 6), (u'saved', 1), (u'terms.', 1), (u'Two-Face', 1), (u'anniversary', 1), (u'Dracula,', 1), (u'Across', 1), (u'access', 1), (u'him,', 2), (u'goes', 5), (u'new', 4), (u'team.', 1), (u'led', 1), (u'sentient', 1), (u'gathered', 1), (u'loose', 1), (u'West,', 1), (u'destroyed,', 1), (u'met', 1), (u'let', 2), (u'will', 1), (u'fulfill', 1), (u'alone', 1), (u'stares', 1), (u'airlifted', 1), (u'appears', 1), (u'boy', 1), (u'arrive', 1), (u'daughter', 1), (u'stalks', 1), (u'broken', 1), (u'leaves', 1), (u'changed', 1), (u'Back', 2), (u'through', 6), (u'later', 2), (u'credit', 1), (u'amount', 1), (u'heartbroken', 1), (u'adopting', 1), (u'makes', 1), (u'smuggle', 1), (u'Wonder', 2), (u'Projector.', 1), (u'control', 1), (u'Projector,', 4), (u'family', 1), (u'Slate),', 1), (u'Justice', 1), (u\"It's\", 1), (u'When', 3), (u'while', 4), (u'put', 2), (u'villains.', 1), (u'names', 1), (u'Medusa,', 1), (u'leftover', 1), (u'crime', 1), (u'use', 1), (u'from', 6), (u'takes', 3), (u'would', 4), (u'two', 2), (u'Quinzel)', 1), (u'vehicle', 1), (u'(now', 2), (u'agrees,', 1), (u'until', 1), (u'more', 1), (u'single-handedly', 1), (u'Tatum)', 1), (u'knows', 2), (u'baffled', 1), (u'hurt', 1), (u'downtown', 1), (u'Manhunter,', 1), (u'abyss.', 1), (u'tearing', 1), (u'must', 2), (u'fly', 1), (u'join', 3), (u'locks', 1), (u'C-list', 1), (u'Mr.', 1), (u'believes', 1), (u'guards', 1), (u'Martian', 1), (u'can', 5), (u'starts', 2), (u'meet', 1), (u'Asylum', 1), (u'fetch', 1), (u'Phantom', 9), (u'stubborn', 1), (u'give', 1), (u'lock', 1), (u'Woman,', 1), (u'Ralph', 1), (u'hatches', 1), (u'Thus,', 1), (u'villain', 2), (u'something', 1), (u'Lord', 1), (u'action', 1), (u'Izzard),', 1), (u'huge', 1), (u'end', 1), (u'protect', 3), (u'means', 1), (u'apologizing,', 1), (u'located', 1), (u'hop', 1), (u'A', 1), (u'plant', 1), (u'plans', 1), (u'Sauron', 4), (u'locked', 3), (u'earlier', 1), (u'tied', 1), (u'Will', 1), (u'tries', 2), (u'controls.', 1), (u'criminals,', 1), (u'Hill),', 1), (u'heroes', 2), (u'Fortress', 2), (u'a', 27), (u'egged', 1), (u'Wayne)', 1), (u'stash', 1), (u'Clement),', 1), (u'so', 5), (u'realizes', 2), (u'Quinn', 1), (u'things', 1), (u'Arnett)', 1), (u'worst', 3), (u'looking', 1), (u'McCaskill', 1), (u'talk', 1), (u'Projector', 2), (u'over', 1), (u'including', 2), (u'looks', 1), (u'during', 1), (u'Service\".', 1), (u'still', 2), (u'before', 3), (u'police', 2), (u'died.', 1), (u'fit', 1), (u'how', 2), (u'Miccuci),', 1), (u'vents', 1), (u'Lantern', 1), (u'into', 11), (u'it.', 4), (u'then', 5), (u'them', 9), (u'Dick,', 1), (u'Kraken', 1), (u'break', 1), (u'Phyllis,', 1), (u'Gordon', 1), (u'they', 3), (u'not', 4), (u'However,', 2), (u'now', 2), (u'day', 1), (u'down', 2), (u'Zod', 1), (u'Gremlins.', 1), (u'cackling', 1), (u'Gremlins,', 1), (u'ascends', 1), (u'leading', 1), (u'Smith,', 1), (u'Conan', 1), (u'mode', 1), (u'each', 2), (u'Kate', 1), (u'Mariah', 1), (u'everyone', 1), (u'retrieve', 1), (u'Zone', 1), (u\"hasn't\", 1), (u'Penguin,', 1), (u'idea', 2), (u'airspace,', 1), (u'celebrating', 1), (u'logo', 1), (u'beyond', 1), (u'out', 5), (u'suit,', 1), (u'lair', 1), (u'surrounded', 1), (u'disguise.', 1), (u'time,', 1), (u'Cera).', 1), (u'contained', 1), (u'computer,', 1), (u'computer.', 1), (u'autopilot', 1), (u'got', 1), (u'cause', 1), (u'approached', 1), (u'Riddler', 1), (u'succeeds,', 1), (u'animals,', 1), (u'free', 1), (u'police.', 1), (u'admits', 2), (u'completely', 1), (u'complicated', 1), (u'latest', 2), (u'ask', 1), (u'care', 2), (u'cheers', 1), (u'latches', 1), (u'but', 13), (u'creates', 1), (u'Dawson).', 1), (u'plummets', 1), (u'pilots', 1), (u'onto', 1), (u'there', 2), (u'Jemaine', 1), (u'Duo', 1), (u'knocking', 1), (u'one', 3), (u'feet', 1), (u'hook', 1), (u'done', 2), (u'adopted', 1), (u'another', 3), (u'city.', 3), (u'activity.', 1), (u'eye,', 1), (u'Kravitz),', 1), (u'city', 9), (u'heads', 2), (u'family.', 3), (u'caught', 2), (u'family,', 1), (u'system', 1), (u'hangs', 1), (u'Cyborg,', 1), (u'their', 2), (u'returns', 1), (u'too', 3), (u'enough,', 1), (u'\"Jerry', 1), (u'friend', 1), (u'scans', 1), (u'hug', 1), (u'on.', 1), (u'way', 2), (u'on,', 1), (u'that', 26), (u'nobody', 2), (u'part', 2), (u'herself', 1), (u'later,', 1), (u'Channing', 1), (u'bit,', 1), (u'determines', 2), (u'gotten', 1), (u'begrudgingly', 1), (u'computer', 3), (u'to.', 1), (u'Eggman', 1), (u'prospect', 1), (u'Arkham,', 1), (u'addressing', 1), (u'Arkham.', 1), (u'sees', 3), (u'maniacally', 1), (u\"He's\", 1), (u'longs', 1), (u'Movie', 1), (u'suspicious', 2), (u'interrupted', 1), (u'own).', 1), (u'well,', 1), (u'say', 1), (u'plunge', 1), (u'gala', 2), (u'have', 3), (u'need', 1), (u'seen', 1), (u'\"Reggae', 1), (u'border', 1), (u'any', 1), (u'forced', 1), (u'realm', 1), (u'Ivy', 1), (u'Batman', 57), (u'After', 2), (u'-', 2), (u'Bane', 1), (u'also', 1), (u'contact', 1), (u'take', 4), (u'which', 3), (u'With', 2), (u'play', 1), (u'commissioner,', 1), (u'allow', 1), (u'who', 2), (u'falls', 2), (u'most', 2), (u'location,', 1), (u'plan', 2), (u'nothing', 1), (u'villain.', 1), (u'The', 14), (u'villain,', 1), (u\"Sauron's\", 1), (u'Benson),', 1), (u'fireball', 1), (u'idea:', 1), (u'considered', 1), (u'door.', 1), (u'Dynamic', 1), (u'stating', 1), (u'idea.', 1), (u'security.', 1), (u'\"jacked\"', 1), (u'hear', 1), (u'Fiennes),', 1), (u'left', 1), (u'Croc', 1), (u'Kemper).', 1), (u'bomb', 3), (u'amok.', 1), (u'Arkham', 3), (u'mayhem.', 1), (u'Flash', 1), (u'piano.', 1), (u'bring', 2), (u'attempts', 1), (u'find', 1), (u'help', 2), (u'him.', 3), (u'unleashes', 1), (u'gear,', 1), (u'bomb.', 1), (u'Meanwhile,', 1), (u'Zone.', 6), (u'Jaws,', 1), (u'should', 1), (u'moments', 1), (u'only', 3), (u'going', 3), (u'touched', 1), (u'watching', 1), (u'do', 1), (u'his', 31), (u'dads.', 1), (u'get', 4), (u'beat', 2), (u'Batcave,', 1), (u'watch', 1), (u'She', 2), (u'truly', 1), (u'famous', 1), (u'While', 1), (u'nearly', 1), (u'Bludhaven', 1), (u'report', 2), (u'Galifianakis)', 1), (u'him', 17), (u'about,', 1), (u'enemy', 1), (u'Catwoman', 1), (u'Green),', 1), (u'floods', 1), (u'Over', 1), (u'dejected', 1), (u'minions.', 1), (u'Agent', 1), (u'Kong', 2), (u'bad', 2), (u'she', 5), (u'friends.', 1), (u'them.', 2), (u'them,', 1), (u'steal', 1), (u\"Superman's\", 2), (u'insane', 1), (u'reveals', 2), (u'set', 1), (u'decides', 1), (u'Zoe', 1), (u'city,', 1), (u'King', 2), (u'down.', 1), (u'bargain', 1), (u'decided', 1), (u'are', 6), (u'begin,', 1), (u\"O'Brien),\", 1), (u'portrait', 2), (u'wear,', 1), (u'best', 1), (u'phases', 1), (u'ways', 1), (u'away', 1), (u'refuses', 2), (u'Jonah', 1), (u'outside', 1), (u'blocked', 1), (u'across', 1), (u'gives', 1), (u'Zone,', 2), (u'parental', 1), (u'scanning', 1), (u'attention', 1), (u'outfit', 2), (u'news', 1), (u'Lindhome),', 1), (u'both', 1), (u'commands', 1), (u'toward', 1), (u'last', 1), (u'Batman,', 1), (u'goodbye', 1), (u'invited', 1), (u'acknowledge', 1), (u'against', 1), (u'blasts', 1), (u'admit', 1), (u'Barbara,', 2), (u'receives', 1), (u'Doug', 1), (u'reluctantly', 1), (u'Green', 1), (u'finds', 3), (u'comes', 1), (u'Superman', 2), (u'and', 66), (u'tearful', 1), (u'sweet', 1), (u'King.', 1), (u'Manor,', 2), (u'written', 1), (u'Gotham.', 2), (u'together,', 1), (u'opts', 1), (u'gala,', 2), (u'Robin.', 1), (u'Robin,', 3), (u'asks', 3), (u'cares', 1), (u'own,', 1), (u'own.', 1), (u'three', 1), (u'been', 2), (u'whom', 1), (u'startled', 1), (u'brick', 1), (u'home,', 1), (u'wants', 2), (u\"Batman's\", 6), (u'sending', 1), (u'accomplishments.', 1), (u'hits', 1), (u'joined', 1), (u\"Projector's\", 1), (u'child', 1), (u'catch', 2), (u'Jason', 1), (u'sad', 1), (u'Barbara', 10), (u'those', 1), (u'pilot', 1), (u'has', 16), (u'Hector', 1), (u'leave', 1), (u'General', 1), (u'rope', 1), (u'Elizondo)', 1), (u'Kraken,', 1), (u'Twins', 1), (u'taking', 1), (u'City', 3), (u'force', 1), (u'settles', 1), (u'almost', 1), (u'is', 27), (u'Dick', 6), (u'it', 6), (u'Ellie', 1), (u'in', 11), (u'return', 1), (u'orphan,', 1), (u'worry', 1), (u'if', 3), (u'(who', 2), (u'apart.', 1), (u'perform', 1), (u'Batman.', 3), (u'make', 1), (u'same', 1), (u'tells', 4), (u'Witch', 1), (u'party', 1), (u'Phyllis', 3), (u'gets', 3), (u'week', 1), (u'meets', 2), (u'applaud', 1), (u'Michael', 1), (u'faces', 1), (u'Commissioner', 1), (u'Solitude.', 2), (u'driven', 1), (u'Grayson', 1), (u'diversion', 1), (u'uses', 1), (u\"Gotham's\", 2), (u'Jenny', 1), (u'along', 1), (u'Laundry', 1), (u'enemy,', 2), (u'steals', 1), (u'kid', 1), (u'Seth', 1), (u'Own', 1), (u'off', 5), (u'core,', 1), (u'disbelief.', 1), (u'without', 1), (u'greatest', 1), (u'In', 1), (u'the', 103), (u'spend', 1), (u'amazed', 1), (u'Adam', 1), (u'Harleen', 1), (u'just', 4), (u'being', 1), (u'rest', 2), (u'surrenders', 1), (u'disguise', 2), (u'Man\"', 1), (u'transporting', 1), (u'Batcave.', 1), (u'where', 1), (u'Clayface', 1), (u'Man,', 1), (u'grappling', 1), (u'credits.', 1), (u'deceiving', 1), (u'Zach', 1), (u'Williams),', 1), (u\"everyone's\", 1), (u'had', 1), (u'Robin', 11), (u'lets', 1), (u'Batwing', 5), (u'parents', 2), (u'Carey)', 1), (u'save', 1), (u\"Joker's\", 4), (u'hates', 1), (u'expected,', 1), (u'On', 1), (u'ago.', 1), (u'They', 2), (u'room.', 1), (u'Island', 1), (u'Harley', 4), (u'saves', 1), (u'Billy', 1), (u\"Bruce's\", 1), (u'know', 1), (u'moment,', 1), (u'using', 1), (u'Condiment', 1), (u'like', 3), (u'confront', 1), (u'continue', 1), (u'surprise,', 2), (u'night', 1), (u'notorious', 2), (u'security', 1), (u'together.', 1), (u'because', 1), (u'Devine),', 1), (u'deal', 1), (u'people', 2), (u'sends', 2), (u'spring', 1), (u'some', 4), (u'back', 8), (u'Riki', 1), (u'villains,', 2), (u'lobster', 1), (u'Alfred', 9), (u'confronts', 1), (u'home', 2), (u'retirement,', 1), (u'enemies', 2), (u'gradually', 1), (u'island.', 1), (u'for', 10), (u'30-minute', 1), (u'considers', 1), (u'Master-Builds', 1), (u'does', 1), (u'overrides', 1), (u'He', 13), (u'locate', 1), (u'be', 3), (u'run', 2), (u'jumps', 1), (u'of', 50), (u'costumes', 1), (u'Freeze,', 1), (u'credits', 1), (u'comedies.', 1), (u'eye', 2), (u'by', 11), (u'on', 17), (u'about', 3), (u'central', 2), (u'anything', 1), (u'getting', 1), (u'island', 1), (u'citizens', 2), (u'accepts', 1), (u'Chief', 1), (u'Calendar', 1), (u'Mayor', 2), (u'outnumbered.', 1), (u'nerve', 1), (u'own', 3), (u'selfie', 2), (u'Beneath', 1), (u'Poison', 1), (u'stop', 2), (u'Aquaman,', 1), (u'schemes', 1), (u'Mantzoukas),', 1), (u'van', 1), (u'her', 5), (u'(Rosario', 1), (u'thermidor', 1), (u'specifically', 1), (u'fight', 2), (u'rushes', 1), (u'start', 2), (u'much', 1), (u'Harley)', 1), (u'lot', 1), (u'cell.', 1), (u'rogues.', 1), (u'purposely', 1), (u'head', 2), (u'himself', 8), (u'steers', 1), (u'form', 1), (u'enough', 1), (u'Gentleman', 1), (u'\"Batgirl\".', 1), (u'agrees', 1), (u'strikes', 1), (u'somehow', 1), (u'(voice', 21), (u'reminds', 2), (u'link', 1), (u'lava,', 1), (u'villains', 8), (u'trying', 3), (u'with', 19), (u'Dee', 1), (u'he', 27), (u'pull', 2), (u'made', 1), (u'romantic', 1), (u'LEGO', 1), (u'proceeds', 1), (u'inside', 1), (u'up', 5), (u'smashes', 1), (u'Eddie', 1), (u'dubbing', 1), (u'problem', 1), (u'called', 1), (u'bits,', 1), (u'(except', 1), (u'proud', 3), (u'certain', 1), (u'watches', 1), (u'an', 5), (u'To', 2), (u'as', 15), (u'right', 1), (u'at', 5), (u'spends', 1), (u'Wicked', 1), (u'song.', 1), (u'core.', 1), (u'Manor', 1), (u'no', 1), (u'when', 1), (u'blown', 1), (u'active.', 1), (u'other', 2), (u'Batwing,', 2), (u'Batwing.', 1), (u'again.', 2), (u'dropkicks', 1), (u'does.', 1), (u'stay', 1), (u'meaning', 1), (u'death,', 1), (u'friends', 3), (u'longer', 1), (u'calls', 1), (u\"he's\", 4), (u\"city's\", 1), (u'together', 1), (u'As', 1), (u'mass', 1), (u'At', 2), (u\"O'Hara\", 1), (u'time', 2), (u'having', 2)\n",
      "--------------------------------------------------------------------------------------------------------------------------\n",
      "(u'', 19), (u'all', 12), (u'Killer', 1), (u'consider', 1), (u'chain', 1), (u'Gremlins', 1), (u'Jim', 4), (u'son.', 1), (u'there.', 2), (u'leads', 1), (u'Gotham', 5), (u'Wayne', 5), (u'Joker,', 1), (u'Joker.', 3), (u'go', 8), (u'Scarecrow', 1), (u'causes', 1), (u'hijacked', 1), (u'up.', 1), (u\"Gordon's\", 1), (u'up,', 1), (u'up)', 1), (u'send', 1), (u'to', 76), (u'finally', 1), (u'Bat-signal', 1), (u'helps', 1), (u'sent', 3), (u'League', 1), (u\"Jim's\", 1), (u'rescue', 1), (u'otherwise.', 1), (u'song', 1), (u'Voldemort', 2), (u'Joker', 30), (u'\"Phantom\\'s', 1), (u'every', 2), (u'explosives.', 1), (u'Daleks.', 1), (u'condition', 1), (u'cool', 1), (u'Just', 1), (u'level', 1), (u'help.', 2), (u'turns', 1), (u'accidentally', 1), (u'try', 1), (u'team', 3), (u'rebuffs', 1), (u'Maguire\".', 1), (u'says', 1), (u'other.', 1), (u'streets', 1), (u'badness,', 1), (u'eating', 1), (u'even', 1), (u'saved,', 1), (u'apologizes', 1), (u'Ghost,', 1), (u'Bruce', 6), (u'saved', 1), (u'terms.', 1), (u'Two-Face', 1), (u'anniversary', 1), (u'Dracula,', 1), (u'Across', 1), (u'access', 1), (u'him,', 2), (u'goes', 5), (u'new', 4), (u'team.', 1), (u'led', 1), (u'sentient', 1), (u'gathered', 1), (u'loose', 1), (u'West,', 1), (u'destroyed,', 1), (u'met', 1), (u'let', 2), (u'will', 1), (u'fulfill', 1), (u'alone', 1), (u'stares', 1), (u'airlifted', 1), (u'appears', 1), (u'boy', 1), (u'arrive', 1), (u'daughter', 1), (u'stalks', 1), (u'broken', 1), (u'leaves', 1), (u'changed', 1), (u'Back', 2), (u'through', 6), (u'later', 2), (u'credit', 1), (u'amount', 1), (u'heartbroken', 1), (u'adopting', 1), (u'makes', 1), (u'smuggle', 1), (u'Wonder', 2), (u'Projector.', 1), (u'control', 1), (u'Projector,', 4), (u'family', 1), (u'Slate),', 1), (u'Justice', 1), (u\"It's\", 1), (u'When', 3), (u'while', 4), (u'put', 2), (u'villains.', 1), (u'names', 1), (u'Medusa,', 1), (u'leftover', 1), (u'crime', 1), (u'use', 1), (u'from', 6), (u'takes', 3), (u'would', 4), (u'two', 2), (u'Quinzel)', 1), (u'vehicle', 1), (u'(now', 2), (u'agrees,', 1), (u'until', 1), (u'more', 1), (u'single-handedly', 1), (u'Tatum)', 1), (u'knows', 2), (u'baffled', 1), (u'hurt', 1), (u'downtown', 1), (u'Manhunter,', 1), (u'abyss.', 1), (u'tearing', 1), (u'must', 2), (u'fly', 1), (u'join', 3), (u'locks', 1), (u'C-list', 1), (u'Mr.', 1), (u'believes', 1), (u'guards', 1), (u'Martian', 1), (u'can', 5), (u'starts', 2), (u'meet', 1), (u'Asylum', 1), (u'fetch', 1), (u'Phantom', 9), (u'stubborn', 1), (u'give', 1), (u'lock', 1), (u'Woman,', 1), (u'Ralph', 1), (u'hatches', 1), (u'Thus,', 1), (u'villain', 2), (u'something', 1), (u'Lord', 1), (u'action', 1), (u'Izzard),', 1), (u'huge', 1), (u'end', 1), (u'protect', 3), (u'means', 1), (u'apologizing,', 1), (u'located', 1), (u'hop', 1), (u'A', 1), (u'plant', 1), (u'plans', 1), (u'Sauron', 4), (u'locked', 3), (u'earlier', 1), (u'tied', 1), (u'Will', 1), (u'tries', 2), (u'controls.', 1), (u'criminals,', 1), (u'Hill),', 1), (u'heroes', 2), (u'Fortress', 2), (u'a', 27), (u'egged', 1), (u'Wayne)', 1), (u'stash', 1), (u'Clement),', 1), (u'so', 5), (u'realizes', 2), (u'Quinn', 1), (u'things', 1), (u'Arnett)', 1), (u'worst', 3), (u'looking', 1), (u'McCaskill', 1), (u'talk', 1), (u'Projector', 2), (u'over', 1), (u'including', 2), (u'looks', 1), (u'during', 1), (u'Service\".', 1), (u'still', 2), (u'before', 3), (u'police', 2), (u'died.', 1), (u'fit', 1), (u'how', 2), (u'Miccuci),', 1), (u'vents', 1), (u'Lantern', 1), (u'into', 11), (u'it.', 4), (u'then', 5), (u'them', 9), (u'Dick,', 1), (u'Kraken', 1), (u'break', 1), (u'Phyllis,', 1), (u'Gordon', 1), (u'they', 3), (u'not', 4), (u'However,', 2), (u'now', 2), (u'day', 1), (u'down', 2), (u'Zod', 1), (u'Gremlins.', 1), (u'cackling', 1), (u'Gremlins,', 1), (u'ascends', 1), (u'leading', 1), (u'Smith,', 1), (u'Conan', 1), (u'mode', 1), (u'each', 2), (u'Kate', 1), (u'Mariah', 1), (u'everyone', 1), (u'retrieve', 1), (u'Zone', 1), (u\"hasn't\", 1), (u'Penguin,', 1), (u'idea', 2), (u'airspace,', 1), (u'celebrating', 1), (u'logo', 1), (u'beyond', 1), (u'out', 5), (u'suit,', 1), (u'lair', 1), (u'surrounded', 1), (u'disguise.', 1), (u'time,', 1), (u'Cera).', 1), (u'contained', 1), (u'computer,', 1), (u'computer.', 1), (u'autopilot', 1), (u'got', 1), (u'cause', 1), (u'approached', 1), (u'Riddler', 1), (u'succeeds,', 1), (u'animals,', 1), (u'free', 1), (u'police.', 1), (u'admits', 2), (u'completely', 1), (u'complicated', 1), (u'latest', 2), (u'ask', 1), (u'care', 2), (u'cheers', 1), (u'latches', 1), (u'but', 13), (u'creates', 1), (u'Dawson).', 1), (u'plummets', 1), (u'pilots', 1), (u'onto', 1), (u'there', 2), (u'Jemaine', 1), (u'Duo', 1), (u'knocking', 1), (u'one', 3), (u'feet', 1), (u'hook', 1), (u'done', 2), (u'adopted', 1), (u'another', 3), (u'city.', 3), (u'activity.', 1), (u'eye,', 1), (u'Kravitz),', 1), (u'city', 9), (u'heads', 2), (u'family.', 3), (u'caught', 2), (u'family,', 1), (u'system', 1), (u'hangs', 1), (u'Cyborg,', 1), (u'their', 2), (u'returns', 1), (u'too', 3), (u'enough,', 1), (u'\"Jerry', 1), (u'friend', 1), (u'scans', 1), (u'hug', 1), (u'on.', 1), (u'way', 2), (u'on,', 1), (u'that', 26), (u'nobody', 2), (u'part', 2), (u'herself', 1), (u'later,', 1), (u'Channing', 1), (u'bit,', 1), (u'determines', 2), (u'gotten', 1), (u'begrudgingly', 1), (u'computer', 3), (u'to.', 1), (u'Eggman', 1), (u'prospect', 1), (u'Arkham,', 1), (u'addressing', 1), (u'Arkham.', 1), (u'sees', 3), (u'maniacally', 1), (u\"He's\", 1), (u'longs', 1), (u'Movie', 1), (u'suspicious', 2), (u'interrupted', 1), (u'own).', 1), (u'well,', 1), (u'say', 1), (u'plunge', 1), (u'gala', 2), (u'have', 3), (u'need', 1), (u'seen', 1), (u'\"Reggae', 1), (u'border', 1), (u'any', 1), (u'forced', 1), (u'realm', 1), (u'Ivy', 1), (u'Batman', 57), (u'After', 2), (u'-', 2), (u'Bane', 1), (u'also', 1), (u'contact', 1), (u'take', 4), (u'which', 3), (u'With', 2), (u'play', 1), (u'commissioner,', 1), (u'allow', 1), (u'who', 2), (u'falls', 2), (u'most', 2), (u'location,', 1), (u'plan', 2), (u'nothing', 1), (u'villain.', 1), (u'The', 14), (u'villain,', 1), (u\"Sauron's\", 1), (u'Benson),', 1), (u'fireball', 1), (u'idea:', 1), (u'considered', 1), (u'door.', 1), (u'Dynamic', 1), (u'stating', 1), (u'idea.', 1), (u'security.', 1), (u'\"jacked\"', 1), (u'hear', 1), (u'Fiennes),', 1), (u'left', 1), (u'Croc', 1), (u'Kemper).', 1), (u'bomb', 3), (u'amok.', 1), (u'Arkham', 3), (u'mayhem.', 1), (u'Flash', 1), (u'piano.', 1), (u'bring', 2), (u'attempts', 1), (u'find', 1), (u'help', 2), (u'him.', 3), (u'unleashes', 1), (u'gear,', 1), (u'bomb.', 1), (u'Meanwhile,', 1), (u'Zone.', 6), (u'Jaws,', 1), (u'should', 1), (u'moments', 1), (u'only', 3), (u'going', 3), (u'touched', 1), (u'watching', 1), (u'do', 1), (u'his', 31), (u'dads.', 1), (u'get', 4), (u'beat', 2), (u'Batcave,', 1), (u'watch', 1), (u'She', 2), (u'truly', 1), (u'famous', 1), (u'While', 1), (u'nearly', 1), (u'Bludhaven', 1), (u'report', 2), (u'Galifianakis)', 1), (u'him', 17), (u'about,', 1), (u'enemy', 1), (u'Catwoman', 1), (u'Green),', 1), (u'floods', 1), (u'Over', 1), (u'dejected', 1), (u'minions.', 1), (u'Agent', 1), (u'Kong', 2), (u'bad', 2), (u'she', 5), (u'friends.', 1), (u'them.', 2), (u'them,', 1), (u'steal', 1), (u\"Superman's\", 2), (u'insane', 1), (u'reveals', 2), (u'set', 1), (u'decides', 1), (u'Zoe', 1), (u'city,', 1), (u'King', 2), (u'down.', 1), (u'bargain', 1), (u'decided', 1), (u'are', 6), (u'begin,', 1), (u\"O'Brien),\", 1), (u'portrait', 2), (u'wear,', 1), (u'best', 1), (u'phases', 1), (u'ways', 1), (u'away', 1), (u'refuses', 2), (u'Jonah', 1), (u'outside', 1), (u'blocked', 1), (u'across', 1), (u'gives', 1), (u'Zone,', 2), (u'parental', 1), (u'scanning', 1), (u'attention', 1), (u'outfit', 2), (u'news', 1), (u'Lindhome),', 1), (u'both', 1), (u'commands', 1), (u'toward', 1), (u'last', 1), (u'Batman,', 1), (u'goodbye', 1), (u'invited', 1), (u'acknowledge', 1), (u'against', 1), (u'blasts', 1), (u'admit', 1), (u'Barbara,', 2), (u'receives', 1), (u'Doug', 1), (u'reluctantly', 1), (u'Green', 1), (u'finds', 3), (u'comes', 1), (u'Superman', 2), (u'and', 66), (u'tearful', 1), (u'sweet', 1), (u'King.', 1), (u'Manor,', 2), (u'written', 1), (u'Gotham.', 2), (u'together,', 1), (u'opts', 1), (u'gala,', 2), (u'Robin.', 1), (u'Robin,', 3), (u'asks', 3), (u'cares', 1), (u'own,', 1), (u'own.', 1), (u'three', 1), (u'been', 2), (u'whom', 1), (u'startled', 1), (u'brick', 1), (u'home,', 1), (u'wants', 2), (u\"Batman's\", 6), (u'sending', 1), (u'accomplishments.', 1), (u'hits', 1), (u'joined', 1), (u\"Projector's\", 1), (u'child', 1), (u'catch', 2), (u'Jason', 1), (u'sad', 1), (u'Barbara', 10), (u'those', 1), (u'pilot', 1), (u'has', 16), (u'Hector', 1), (u'leave', 1), (u'General', 1), (u'rope', 1), (u'Elizondo)', 1), (u'Kraken,', 1), (u'Twins', 1), (u'taking', 1), (u'City', 3), (u'force', 1), (u'settles', 1), (u'almost', 1), (u'is', 27), (u'Dick', 6), (u'it', 6), (u'Ellie', 1), (u'in', 11), (u'return', 1), (u'orphan,', 1), (u'worry', 1), (u'if', 3), (u'(who', 2), (u'apart.', 1), (u'perform', 1), (u'Batman.', 3), (u'make', 1), (u'same', 1), (u'tells', 4), (u'Witch', 1), (u'party', 1), (u'Phyllis', 3), (u'gets', 3), (u'week', 1), (u'meets', 2), (u'applaud', 1), (u'Michael', 1), (u'faces', 1), (u'Commissioner', 1), (u'Solitude.', 2), (u'driven', 1), (u'Grayson', 1), (u'diversion', 1), (u'uses', 1), (u\"Gotham's\", 2), (u'Jenny', 1), (u'along', 1), (u'Laundry', 1), (u'enemy,', 2), (u'steals', 1), (u'kid', 1), (u'Seth', 1), (u'Own', 1), (u'off', 5), (u'core,', 1), (u'disbelief.', 1), (u'without', 1), (u'greatest', 1), (u'In', 1), (u'the', 103), (u'spend', 1), (u'amazed', 1), (u'Adam', 1), (u'Harleen', 1), (u'just', 4), (u'being', 1), (u'rest', 2), (u'surrenders', 1), (u'disguise', 2), (u'Man\"', 1), (u'transporting', 1), (u'Batcave.', 1), (u'where', 1), (u'Clayface', 1), (u'Man,', 1), (u'grappling', 1), (u'credits.', 1), (u'deceiving', 1), (u'Zach', 1), (u'Williams),', 1), (u\"everyone's\", 1), (u'had', 1), (u'Robin', 11), (u'lets', 1), (u'Batwing', 5), (u'parents', 2), (u'Carey)', 1), (u'save', 1), (u\"Joker's\", 4), (u'hates', 1), (u'expected,', 1), (u'On', 1), (u'ago.', 1), (u'They', 2), (u'room.', 1), (u'Island', 1), (u'Harley', 4), (u'saves', 1), (u'Billy', 1), (u\"Bruce's\", 1), (u'know', 1), (u'moment,', 1), (u'using', 1), (u'Condiment', 1), (u'like', 3), (u'confront', 1), (u'continue', 1), (u'surprise,', 2), (u'night', 1), (u'notorious', 2), (u'security', 1), (u'together.', 1), (u'because', 1), (u'Devine),', 1), (u'deal', 1), (u'people', 2), (u'sends', 2), (u'spring', 1), (u'some', 4), (u'back', 8), (u'Riki', 1), (u'villains,', 2), (u'lobster', 1), (u'Alfred', 9), (u'confronts', 1), (u'home', 2), (u'retirement,', 1), (u'enemies', 2), (u'gradually', 1), (u'island.', 1), (u'for', 10), (u'30-minute', 1), (u'considers', 1), (u'Master-Builds', 1), (u'does', 1), (u'overrides', 1), (u'He', 13), (u'locate', 1), (u'be', 3), (u'run', 2), (u'jumps', 1), (u'of', 50), (u'costumes', 1), (u'Freeze,', 1), (u'credits', 1), (u'comedies.', 1), (u'eye', 2), (u'by', 11), (u'on', 17), (u'about', 3), (u'central', 2), (u'anything', 1), (u'getting', 1), (u'island', 1), (u'citizens', 2), (u'accepts', 1), (u'Chief', 1), (u'Calendar', 1), (u'Mayor', 2), (u'outnumbered.', 1), (u'nerve', 1), (u'own', 3), (u'selfie', 2), (u'Beneath', 1), (u'Poison', 1), (u'stop', 2), (u'Aquaman,', 1), (u'schemes', 1), (u'Mantzoukas),', 1), (u'van', 1), (u'her', 5), (u'(Rosario', 1), (u'thermidor', 1), (u'specifically', 1), (u'fight', 2), (u'rushes', 1), (u'start', 2), (u'much', 1), (u'Harley)', 1), (u'lot', 1), (u'cell.', 1), (u'rogues.', 1), (u'purposely', 1), (u'head', 2), (u'himself', 8), (u'steers', 1), (u'form', 1), (u'enough', 1), (u'Gentleman', 1), (u'\"Batgirl\".', 1), (u'agrees', 1), (u'strikes', 1), (u'somehow', 1), (u'(voice', 21), (u'reminds', 2), (u'link', 1), (u'lava,', 1), (u'villains', 8), (u'trying', 3), (u'with', 19), (u'Dee', 1), (u'he', 27), (u'pull', 2), (u'made', 1), (u'romantic', 1), (u'LEGO', 1), (u'proceeds', 1), (u'inside', 1), (u'up', 5), (u'smashes', 1), (u'Eddie', 1), (u'dubbing', 1), (u'problem', 1), (u'called', 1), (u'bits,', 1), (u'(except', 1), (u'proud', 3), (u'certain', 1), (u'watches', 1), (u'an', 5), (u'To', 2), (u'as', 15), (u'right', 1), (u'at', 5), (u'spends', 1), (u'Wicked', 1), (u'song.', 1), (u'core.', 1), (u'Manor', 1), (u'no', 1), (u'when', 1), (u'blown', 1), (u'active.', 1), (u'other', 2), (u'Batwing,', 2), (u'Batwing.', 1), (u'again.', 2), (u'dropkicks', 1), (u'does.', 1), (u'stay', 1), (u'meaning', 1), (u'death,', 1), (u'friends', 3), (u'longer', 1), (u'calls', 1), (u\"he's\", 4), (u\"city's\", 1), (u'together', 1), (u'As', 1), (u'mass', 1), (u'At', 2), (u\"O'Hara\", 1), (u'time', 2), (u'having', 2)\n"
     ]
    }
   ],
   "source": [
    "lines = sc.textFile(\"file:///home/jovyan/work/the-lego-batman-movie.txt\")\n",
    "lines2 = sc.textFile(\"file:///home/jovyan/work/fifty-shades-darker.txt\")\n",
    "words = lines.flatMap(lambda line: line.split(\" \"))\n",
    "words2 = lines.flatMap(lambda line: line.split(\" \"))\n",
    "wordCount = words.map(lambda word: (word, 1)).reduceByKey(lambda v1,v2:v1 +v2)\n",
    "wordCount2 = words2.map(lambda word: (word, 1)).reduceByKey(lambda v1,v2:v1 +v2)\n",
    "\n",
    "list = wordCount.collect()\n",
    "list2 = wordCount.collect()\n",
    "print repr(list)[1:-1]\n",
    "print\"--------------------------------------------------------------------------------------------------------------------------\"\n",
    "print repr(list2)[1:-1]"
   ]
  },
  {
   "cell_type": "markdown",
   "metadata": {},
   "source": [
    "Stopwords RDD"
   ]
  },
  {
   "cell_type": "code",
   "execution_count": 5,
   "metadata": {
    "collapsed": false
   },
   "outputs": [
    {
     "name": "stdout",
     "output_type": "stream",
     "text": [
      "(u'', 428), (u'all', 1), (u'pointing', 1), (u'four', 1), (u'go', 1), (u'oldest', 1), (u'seemed', 1), (u'whose', 1), (u'certainly', 1), (u'young', 1), (u'presents', 1), (u'to', 1), (u'does', 1), (u'those', 1), (u'under', 1), (u'far', 1), (u'every', 1), (u'presented', 1), (u'did', 1), (u'turns', 1), (u'large', 1), (u'p', 1), (u'small', 1), (u'parted', 1), (u'smaller', 1), (u'says', 1), (u'second', 1), (u'further', 1), (u'even', 1), (u'what', 1), (u'above', 1), (u'new', 2), (u'ever', 1), (u'full', 1), (u'men', 1), (u'here', 1), (u'youngest', 1), (u'let', 1), (u'groups', 1), (u'others', 1), (u'alone', 1), (u'along', 1), (u'great', 1), (u'k', 1), (u'ask', 1), (u'everybody', 1), (u'use', 1), (u'from', 1), (u'working', 1), (u'two', 1), (u'next', 1), (u'few', 1), (u'therefore', 1), (u'taken', 1), (u'until', 1), (u'today', 1), (u'more', 1), (u'asks', 1), (u'almost', 1), (u'knows', 1), (u'becomes', 1), (u'downing', 1), (u'everywhere', 1), (u'known', 1), (u'cases', 1), (u'must', 1), (u'me', 1), (u'high', 3), (u'room', 1), (u'f', 1), (u'this', 1), (u'work', 1), (u'anywhere', 1), (u'can', 1), (u'mr', 1), (u'making', 1), (u'my', 1), (u'numbers', 1), (u'give', 1), (u'states', 1), (u'something', 1), (u'want', 1), (u'needs', 1), (u'end', 1), (u'thing', 1), (u'rather', 1), (u'very', 1), (u'may', 1), (u'after', 1), (u'them', 1), (u'such', 1), (u'man', 1), (u'a', 1), (u'q', 1), (u'so', 1), (u'keeps', 1), (u'order', 1), (u'furthering', 1), (u'over', 1), (u'years', 1), (u'ended', 1), (u'through', 1), (u'still', 2), (u'its', 1), (u'before', 1), (u'group', 1), (u'how', 1), (u'somewhere', 1), (u'interesting', 1), (u'better', 1), (u'differently', 1), (u'might', 1), (u'then', 1), (u'non', 1), (u'good', 1), (u'somebody', 1), (u'greater', 1), (u'downs', 1), (u'they', 1), (u'not', 1), (u'now', 1), (u'gets', 1), (u'always', 1), (u'l', 1), (u'each', 1), (u'went', 1), (u'side', 1), (u'everyone', 1), (u'year', 1), (u'our', 1), (u'out', 1), (u'opened', 1), (u'since', 1), (u'got', 1), (u'shows', 1), (u'turning', 1), (u'given', 1), (u'quite', 1), (u'members', 1), (u'put', 1), (u'wanted', 1), (u'g', 1), (u'could', 1), (u'needing', 1), (u'keep', 1), (u'turn', 1), (u'place', 1), (u'w', 1), (u'think', 1), (u'first', 1), (u'already', 1), (u'seeming', 1), (u'number', 1), (u'one', 1), (u'done', 1), (u'another', 1), (u'open', 1), (u'differ', 1), (u'needed', 1), (u'ordering', 1), (u'least', 1), (u'anyone', 1), (u'their', 1), (u'too', 1), (u'gives', 1), (u'interests', 1), (u'mostly', 1), (u'that', 1), (u'nobody', 1), (u'took', 1), (u'part', 1), (u'herself', 1), (u'than', 1), (u'kind', 1), (u'b', 1), (u'showed', 1), (u'older', 1), (u'likely', 1), (u'r', 1), (u'were', 1), (u'toward', 1), (u'and', 1), (u'sees', 1), (u'turned', 1), (u'say', 1), (u'have', 1), (u'need', 1), (u'seem', 1), (u'saw', 1), (u'clearly', 1), (u'also', 1), (u'take', 1), (u'which', 1), (u'wanting', 1), (u'sure', 1), (u'shall', 1), (u'knew', 1), (u'wells', 1), (u'most', 1), (u'nothing', 1), (u'why', 1), (u'parting', 1), (u'noone', 1), (u'later', 1), (u'm', 1), (u'mrs', 1), (u'points', 1), (u'fact', 1), (u'show', 1), (u'ending', 1), (u'find', 1), (u'state', 1), (u'should', 1), (u'only', 1), (u'going', 1), (u'pointed', 1), (u'do', 1), (u'his', 1), (u'get', 1), (u'cannot', 1), (u'longest', 1), (u'during', 1), (u'him', 1), (u'areas', 1), (u'h', 1), (u'she', 1), (u'x', 1), (u'where', 1), (u'we', 1), (u'see', 1), (u'are', 1), (u'best', 1), (u'said', 1), (u'ways', 1), (u'away', 1), (u'behind', 1), (u'smallest', 1), (u'between', 1), (u'across', 1), (u'ends', 1), (u'never', 1), (u'opening', 1), (u'however', 1), (u'come', 1), (u'both', 1), (u'c', 1), (u'last', 1), (u'many', 1), (u'against', 1), (u's', 1), (u'became', 1), (u'faces', 1), (u'whole', 1), (u'asked', 1), (u'among', 1), (u'point', 1), (u'had', 1), (u'furthered', 1), (u'furthers', 1), (u'puts', 1), (u'three', 1), (u'been', 1), (u'much', 1), (u'interest', 1), (u'wants', 1), (u'worked', 1), (u'general', 1), (u'present', 1), (u'case', 1), (u'myself', 1), (u'these', 1), (u'n', 1), (u'will', 1), (u'while', 1), (u'backing', 1), (u'is', 1), (u'thus', 1), (u'it', 1), (u'someone', 1), (u'in', 1), (u'if', 1), (u'different', 1), (u'perhaps', 1), (u'things', 1), (u'make', 1), (u'same', 1), (u'any', 1), (u'member', 1), (u'parts', 1), (u'several', 1), (u'higher', 1), (u'used', 1), (u'upon', 1), (u'uses', 1), (u'thoughts', 1), (u'off', 1), (u'largely', 1), (u'i', 1), (u'well', 1), (u'anybody', 1), (u'finds', 1), (u'thought', 1), (u'without', 1), (u'greatest', 1), (u'y', 1), (u'the', 1), (u'yours', 1), (u'latest', 1), (u'newest', 1), (u'just', 1), (u'less', 1), (u'being', 1), (u'generally', 1), (u'rooms', 1), (u'facts', 1), (u'yet', 1), (u'seems', 1), (u'lets', 1), (u'other', 1), (u'has', 1), (u'gave', 1), (u'around', 1), (u'big', 1), (u'showing', 1), (u'possible', 1), (u'early', 1), (u'know', 1), (u'd', 1), (u'necessary', 1), (u'like', 1), (u't', 1), (u'fully', 1), (u'become', 1), (u'works', 1), (u'grouping', 1), (u'because', 1), (u'old', 1), (u'often', 1), (u'some', 1), (u'back', 1), (u'thinks', 1), (u'for', 1), (u'though', 1), (u'per', 1), (u'everything', 1), (u'asking', 1), (u'either', 1), (u'be', 1), (u'who', 1), (u'seconds', 1), (u'nowhere', 1), (u'although', 1), (u'by', 1), (u'on', 1), (u'about', 1), (u'goods', 1), (u'would', 1), (u'anything', 1), (u'of', 1), (u'o', 1), (u'or', 1), (u'orders', 1), (u'into', 1), (u'within', 1), (u'down', 2), (u'beings', 1), (u'right', 2), (u'your', 1), (u'her', 1), (u'area', 1), (u'downed', 1), (u'there', 1), (u'long', 1), (u'way', 1), (u'was', 1), (u'opens', 1), (u'himself', 1), (u'enough', 1), (u'but', 1), (u'newer', 1), (u'highest', 1), (u'with', 1), (u'he', 1), (u'made', 1), (u'places', 1), (u'whether', 1), (u'j', 1), (u'up', 1), (u'us', 1), (u'problem', 1), (u'z', 1), (u'clear', 1), (u'v', 1), (u'ordered', 1), (u'certain', 1), (u'an', 1), (u'as', 1), (u'at', 1), (u'face', 1), (u'again', 1), (u'no', 1), (u'when', 1), (u'backs', 1), (u'grouped', 1), (u'interested', 1), (u'you', 1), (u'really', 1), (u'presenting', 1), (u'felt', 1), (u'problems', 1), (u'important', 1), (u'sides', 1), (u'began', 1), (u'younger', 1), (u'e', 1), (u'longer', 1), (u'backed', 1), (u'together', 1), (u'itself', 1), (u'u', 1), (u'came', 1), (u'once', 1), (u'having', 1), (u'evenly', 1)\n"
     ]
    }
   ],
   "source": [
    "lines3= sc.textFile(\"file:///home/jovyan/work/stopwords.txt\")\n",
    "words3 = lines3.flatMap(lambda line: line.split(\" \"))\n",
    "wordCount3 = words3.map(lambda word: (word, 1)).reduceByKey(lambda v1,v2:v1 +v2)\n",
    "list3 = wordCount3.collect()\n",
    "print repr(list3)[1:-1]\n"
   ]
  },
  {
   "cell_type": "markdown",
   "metadata": {},
   "source": [
    "All individual words for the 2 movie articles, removing those words in the stopwords list. Word are lowered, so \"the\" \"The\" will be considered the same word and so forth. Finally they are sorted by value desc and 10 top occurrences are listed down"
   ]
  },
  {
   "cell_type": "code",
   "execution_count": 6,
   "metadata": {
    "collapsed": false
   },
   "outputs": [
    {
     "name": "stdout",
     "output_type": "stream",
     "text": [
      "[(u'batman', 57), (u'joker', 30), (u'(voice', 21), (u'city', 12), (u'robin', 11), (u'barbara', 10), (u'alfred', 9), (u'phantom', 9), (u'villains', 8), (u'dick', 6)]\n",
      "------------------------------------------------------------------------------------------------------------------------\n",
      "[(u'ana', 45), (u'christian', 33), (u'jack', 11), (u\"christian's\", 11), (u'leila', 8), (u'elena', 7), (u'woman', 5), (u\"ana's\", 5), (u'him.', 4), (u'takes', 4)]\n"
     ]
    }
   ],
   "source": [
    "#movies and stopword files\n",
    "movie = sc.textFile(\"file:///home/jovyan/work/the-lego-batman-movie.txt\")\n",
    "movie2 = sc.textFile(\"file:///home/jovyan/work/fifty-shades-darker.txt\")\n",
    "stop= sc.textFile(\"file:///home/jovyan/work/stopwords.txt\")\n",
    "\n",
    "# movie rdds by words\n",
    "movieWords = movie.flatMap(lambda line: line.split(\" \"))\n",
    "movieWords2 = movie2.flatMap(lambda line: line.split(\" \"))\n",
    "\n",
    "#stopwords list\n",
    "stopWordsList = stop.flatMap(lambda line: line.split(\" \")).collect()\n",
    "\n",
    "# movie word count considering:\n",
    "# \"The\" and \"the\" as same word, same for any others\n",
    "# Considered only words that are not included in the stopwords list\n",
    "movieWordsCount = movieWords.filter(lambda word: word.lower() not in stopWordsList).\\\n",
    "map(lambda word: (word.lower(), 1)).reduceByKey(lambda v1,v2:v1 +v2).sortBy(lambda x: x[1],ascending=False)\n",
    "\n",
    "movieWordsCount2 = movieWords2.filter(lambda word: word.lower() not in stopWordsList).\\\n",
    "map(lambda word: (word.lower(), 1)).reduceByKey(lambda v1,v2:v1 +v2).sortBy(lambda x: x[1],ascending=False)\n",
    "\n",
    "print movieWordsCount.take(10)\n",
    "print \"------------------------------------------------------------------------------------------------------------------------\"\n",
    "print movieWordsCount2.take(10)\n"
   ]
  },
  {
   "cell_type": "markdown",
   "metadata": {},
   "source": [
    "Unique words for the 2 films, that is, word that are in one film but not in he other"
   ]
  },
  {
   "cell_type": "code",
   "execution_count": 7,
   "metadata": {
    "collapsed": false
   },
   "outputs": [
    {
     "name": "stdout",
     "output_type": "stream",
     "text": [
      "[u'LEGO', u'Batman', u'Movie', u'Gotham', u'City', u'airspace,', u'pilots', u'transporting', u'insane', u'amount', u'explosives.', u'hijacked', u'Joker', u'(voice', u'Zach', u'Galifianakis)', u'minions.', u'city,', u'Joker', u'loose', u\"Gotham's\", u'notorious', u'criminals,', u'including', u'Harley', u'Quinn', u'(voice', u'Jenny', u'Slate),', u'Two-Face', u'(voice', u'Billy', u'Dee', u'Williams),', u'Riddler', u'(voice', u'Conan', u\"O'Brien),\", u'Scarecrow', u'(voice', u'Jason', u'Mantzoukas),', u'Catwoman', u'(voice', u'Zoe', u'Kravitz),', u'Poison', u'Ivy', u'(voice', u'Riki', u'Lindhome),', u'Clayface', u'(voice', u'Kate', u'Miccuci),', u'Bane', u'(voice', u'Doug', u'Benson),', u'Mr.', u'Freeze,', u'Penguin,', u'C-list', u'villains', u'Calendar', u'Gentleman', u'Ghost,', u'Condiment', u'King.', u'pilot', u'Batman', u'(voice', u'Arnett)', u'stop', u'Joker,', u'believes', u'otherwise.', u'Beneath', u\"city's\", u'central', u'core,', u'Joker', u'Killer', u'Croc', u'plant', u'bomb', u'level', u'Gotham', u'plunge', u'abyss.', u'Commissioner', u'Jim', u'Gordon', u'(voice', u'Hector', u'Elizondo)', u'Bat-signal', u'contact', u'Batman,', u'Eggman', u'egged', u'down.', u'Jim', u'Chief', u\"O'Hara\", u'downtown', u'spring', u'action', u'villains', u'continue', u'run', u'amok.', u'Jim', u'meets', u'Mayor', u'McCaskill', u'(voice', u'Mariah', u'Carey)', u'airlifted', u'central', u'core.', u'Joker', u'villains', u'gathered', u'city', u'destroyed,', u'Mayor', u'reveals', u'Batman', u'disguise.', u'proceeds', u'single-handedly', u'beat', u'villain', u'trying', u'catch', u'Joker.', u'Batman', u'latches', u'onto', u'Joker', u'grappling', u'hook', u'Joker', u'bomb', u'active.', u'Joker', u'calls', u\"Batman's\", u'worst', u'enemy,', u'Batman', u'rebuffs', u'stating', u'Joker', u'means', u'does.', u'Joker', u'heartbroken', u'Batman', u'rushes', u'stop', u'bomb.', u'succeeds,', u'city', u'cheers', u'Batman', u'on.', u'Batman', u'home', u'own', u'island.', u'spends', u'free', u'Batcave,', u'eating', u'leftover', u'lobster', u'thermidor', u'cackling', u'maniacally', u'\"Jerry', u'Maguire\".', u'Batman', u'stares', u'portrait', u'child', u'parents', u'night', u'died.', u'starts', u'addressing', u'portrait', u'parents', u'proud', u'saved', u'city', u'startled', u'Alfred', u'(voice', u'Ralph', u'Fiennes),', u'Batman', u'accidentally', u'dropkicks', u'piano.', u'apologizing,', u'Alfred', u'realizes', u'Batman', u'phases', u'sad', u'prospect', u'Alfred', u'Batman', u'gala', u'day', u'Jim', u\"Gordon's\", u'retirement,', u'Batman', u'reluctantly', u'to.', u'gala,', u'Batman', u'(now', u'disguise', u'Bruce', u'Wayne)', u'report', u'Superman', u'(voice', u'Channing', u'Tatum)', u'Zod', u'Phantom', u'Zone.', u'Joker', u'report', u'lair', u'Harley', u'famous', u'villains', u'beyond', u'realm', u'Gotham', u'City', u'contained', u'there.', u'Thus,', u'Joker', u'hatches', u'idea.', u'gala,', u'Bruce', u'orphan,', u'Dick', u'Grayson', u'(voice', u'Michael', u'Cera).', u\"He's\", u'sweet', u'kid', u'longs', u'Dick', u'Bruce', u'consider', u'adopting', u\"Bruce's\", u'attention', u'caught', u'commissioner,', u\"Jim's\", u'daughter', u'Barbara', u'(Rosario', u'Dawson).', u'talk', u'citizens', u'Gotham', u'idea:', u'police', u'force', u'team', u'Batman', u'own,', u\"hasn't\", u'huge', u'crime', u'city.', u'Bruce', u'idea', u'bit,', u'moments', u'later,', u'gala', u'interrupted', u'Joker', u'villain', u'team.', u'Bruce', u'Batman', u'mode', u'Master-Builds', u'vehicle', u'Barbara', u'attempts', u'confront', u'Joker', u'own', u\"everyone's\", u'surprise,', u'Joker', u'surrenders', u'villains', u'(except', u'Harley)', u'police.', u\"Gotham's\", u'worst', u'locked', u'Barbara', u'receives', u'credit', u'Batman', u'left', u'home', u'disbelief.', u'Batman', u'stalks', u'Arkham', u'Asylum', u'activity.', u'van', u'driven', u'Harley', u'(now', u'disguise', u'Harleen', u'Quinzel)', u'logo', u'\"Phantom\\'s', u'Own', u'Laundry', u'Service\".', u'on,', u'Barbara', u'police', u'worry', u'Wayne', u'Manor,', u'Batman', u'access', u\"Joker's\", u'plans', u'computer,', u'Alfred', u'parental', u'lock', u'computer.', u'Batman', u'spend', u'Dick,', u'whom', u'adopted', u'week', u'ago.', u'Batman', u'baffled', u'refuses', u'boy', u'Alfred', u'purposely', u'leads', u'Dick', u'Batcave.', u'Dick', u'amazed', u'Batman', u'dads.', u'Meanwhile,', u'Batman', u'schemes', u'Joker', u'Phantom', u'Zone,', u'steal', u'Phantom', u'Zone', u'Projector,', u'located', u\"Superman's\", u'Fortress', u'Solitude.', u'computer', u'determines', u'Batman', u'\"jacked\"', u'fit', u'vents', u\"Projector's\", u'location,', u'idea', u'Dick', u'fetch', u'Dick', u\"Batman's\", u'costumes', u'cool', u'outfit', u'wear,', u'settles', u\"Batman's\", u'\"Reggae', u'Man\"', u'outfit', u'names', u'Robin.', u'Dynamic', u'Duo', u'Fortress', u'Solitude.', u'Robin', u'Projector,', u'Batman', u'creates', u'diversion', u'knocking', u\"Superman's\", u'door.', u\"Batman's\", u'surprise,', u'Superman', u'rest', u'Justice', u'League', u'-', u'including', u'Green', u'Lantern', u'(voice', u'Jonah', u'Hill),', u'Flash', u'(voice', u'Adam', u'Devine),', u'Wonder', u'Woman,', u'Cyborg,', u'Aquaman,', u'Martian', u'Manhunter,', u'Wonder', u'Twins', u'-', u'celebrating', u'anniversary', u'invited', u'Batman.', u'dejected', u'Batman', u'looking', u'Robin', u'gotten', u'complicated', u'security', u'system', u'retrieve', u'Projector.', u'Batman', u'admits', u\"he's\", u'proud', u'Robin,', u\"he's\", u'proud', u'admit', u'Batman', u'Robin', u'Arkham', u'Joker.', u'Barbara', u'security.', u'Robin', u'caught', u'trying', u'smuggle', u'Projector,', u'beat', u'guards', u'run', u\"Joker's\", u'cell.', u'expected,', u'Batman', u'Joker', u'hits', u'Projector,', u'sending', u'Phantom', u'Zone.', u'Phantom', u'Zone,', u'Joker', u'sentient', u'brick', u'called', u'Phyllis', u'(voice', u'Ellie', u'Kemper).', u'scanning', u'Joker', u'badness,', u'notorious', u'villains', u'time,', u'Lord', u'Voldemort', u'(voice', u'Eddie', u'Izzard),', u'Sauron', u'(voice', u'Jemaine', u'Clement),', u'King', u'Kong', u'(voice', u'Seth', u'Green),', u'Kraken,', u'Jaws,', u'Agent', u'Smith,', u'Dracula,', u'Medusa,', u'Wicked', u'Witch', u'West,', u'Gremlins,', u'Daleks.', u'villains', u'plan', u'there.', u'Arkham,', u'Harley', u'steals', u'Projector', u'bring', u'villain.', u'Joker', u'unleashes', u'city', u'cause', u'mass', u'mayhem.', u'Sauron', u'floods', u'lava,', u'Voldemort', u'people', u'animals,', u'King', u'Kong', u'smashes', u'city.', u'Batman', u'(who', u'Robin', u'locked', u'up)', u'Barbara', u'save', u'city.', u'condition', u'allow', u'Batman', u'begrudgingly', u'agrees,', u'joined', u'Barbara,', u'Robin,', u'Alfred', u'(who', u'somehow', u'Wayne', u'Manor', u'Arkham', u'own).', u'heroes', u'Batwing', u'city', u'try', u'locate', u'Joker.', u'Sauron', u'eye', u'locked', u'Batman', u'led', u'Joker', u'Wayne', u'Manor,', u'Joker', u\"Batman's\", u'stash', u'comedies.', u'Gremlins', u'tearing', u'Batwing,', u'Batman', u'hop', u'Batwing', u'autopilot', u'rope', u'tied', u'controls.', u'Robin', u'Alfred', u'taking', u'Gremlins.', u'Robin', u'falls', u'Batwing,', u'Batman', u'jumps', u'rescue', u'Alfred', u'falls', u'nearly', u'plummets', u'death,', u'Barbara', u'control', u'Batwing', u'saves', u'Batman', u'plan', u'Barbara', u'fly', u\"Sauron's\", u'eye,', u'Kraken', u'blasts', u'fireball', u'Batwing.', u'moment,', u'Barbara', u'steers', u'Batwing', u'causes', u'Sauron', u'blown', u'bits,', u'Joker', u'eye', u'Batman.', u'heroes', u'Wayne', u'Island', u'applaud', u'accomplishments.', u'Robin', u'selfie', u'family,', u'strikes', u'nerve', u'Batman.', u'Batwing', u'gear,', u'Batman', u'locks', u'computer', u'send', u'border', u'Gotham', u'City', u'Bludhaven', u'protect', u'fight', u'Joker', u'own.', u'Batman', u'Joker', u'inside', u'Batman', u'surrounded', u'villains,', u'completely', u'outnumbered.', u'Joker', u'hear', u'Batman', u'hates', u'considers', u'worst', u'enemy,', u'Batman', u'stubborn', u'refuses', u'acknowledge', u'Joker', u'Projector', u'Batman', u'Phantom', u'Zone.', u'Batman', u'meets', u'Phyllis,', u'scans', u'determines', u\"he's\", u'bad', u'considered', u'villain,', u'lot', u'bad', u'people', u'Batman', u'realizes', u'trying', u'protect', u'getting', u'hurt', u'makes', u'deal', u'Phyllis', u'bring', u'villains', u'Gotham.', u\"Batman's\", u'computer', u'overrides', u'commands', u'protect', u'Robin,', u'Barbara,', u'Alfred', u'island', u'fight', u'villains.', u'Batman', u'well,', u'apologizes', u'friends', u'deceiving', u'opts', u'help', u'them,', u'enemies', u'broken', u'Arkham.', u'Barbara', u'own', u'suit,', u'dubbing', u'\"Batgirl\".', u'team', u\"Joker's\", u'villains,', u'gradually', u'Phantom', u'Zone.', u'However,', u'bomb', u'earlier', u'starts', u'city', u'apart.', u'Batman', u'friends', u'form', u'chain', u'link', u'using', u'heads', u'feet', u'pull', u'city', u'together,', u'citizens', u'Gotham.', u'enough,', u'Batman', u'forced', u\"Joker's\", u'Batman', u'admits', u'Joker', u'truly', u'enemy', u'other.', u'Joker', u'touched', u'helps', u'Batman', u'pull', u'city', u'city', u'saved,', u'Batman', u'fulfill', u'bargain', u'return', u'Phantom', u'Zone.', u'reveals', u'Bruce', u'Wayne', u'Robin', u'finally', u'accepts', u'son.', u'tearful', u'hug', u'goodbye', u'Batman', u'ascends', u'Phantom', u'Zone.', u'However,', u'blocked', u'up.', u'Phyllis', u'appears', u'Batman', u'seen', u'changed', u'help', u'about,', u'decided', u'stay', u'friends.', u'Batman', u'Joker', u'Joker', u'heads', u'rest', u'rogues.', u'Batman', u'30-minute', u'team', u'catch', u'Batman', u'Robin', u'Batman', u'hangs', u'selfie', u'room.', u'credits', u'begin,', u'Robin', u'Batman', u'play', u'song', u\"he's\", u'specifically', u'credits.', u'Batman', u'friends', u'enemies', u'perform', u'song.']\n",
      "------------------------------------------------------------------------------------------------------------------------\n",
      "[u'Fifty', u'Shades', u'Darker', u'sequel', u\"'Fifty\", u'Shades', u\"Grey',\", u'scene', u'Christian', u'Grey', u'(Jamie', u'Dornan)', u'nightmare', u'childhood.', u'overhears', u'mother', u'abused', u'father.', u'Christian', u'hides,', u'father', u'prepares', u'abuse', u'cigarette.', u'Meanwhile,', u'Anastasia', u'Steele', u'(Dakota', u'Johnson)', u'found', u'job', u'publishing', u'firm', u'Seattle', u'Independent', u'Publishing', u'assistant', u'boss', u'Jack', u'Hyde', u'(Eric', u'Johnson).', u'Christian', u'flowers', u'congratulate', u'her.', u'throw', u'Ana', u'town,', u'followed', u'strange', u'woman', u'(Bella', u'Heathcote).', u'night,', u'Ana', u'attends', u'art', u'Jose', u'(Victor', u'Rasuk).', u\"She's\", u'unnerved', u'six', u'pictures', u'hanging', u'walls.', u'art', u'director', u'approaches', u'Jose', u'tell', u'bought', u'six', u'pictures.', u'course', u\"it's\", u'Christian.', u'approaches', u'Ana', u'fix', u'relationship', u'dinner.', u'Ana', u\"she's\", u'hungry.', u'dinner,', u'Christian', u'explains', u'Ana', u'submissive', u'mate,', u'willing', u'negotiate', u'inflict', u'dominant', u'desires', u'her,', u'agrees.', u'Eventually,', u'renew', u'relationship', u'kinky', u'sex', u'Jack', u'invites', u'Ana', u'drinks.', u'meeting', u'Jack,', u'Ana', u'woman', u'following', u'her.', u\"Ana's\", u'name', u'little', u'Jack', u'pulls', u'Ana', u'away.', u'Christian', u'bar', u\"Jack's\", u'true', u'intentions', u'catches', u'Jack', u'acting', u'bit', u'flirty', u'Ana.', u'Christian', u'informs', u'Ana', u'bought', u'SIP', u'essentially', u\"Jack's\", u'boss.', u'Ana', u\"isn't\", u'thrilled', u'concept.', u'Ana', u'strange', u'woman', u'breakfast', u'Christian.', u'woman', u'is.', u\"Christian's\", u'file', u'pictures', u'woman.', u'Christian', u'explains', u\"woman's\", u'name', u'Leila', u'Williams,', u'former', u'submissive', u\"Christian's.\", u'relationship', u'Christian', u'did,', u'ways.', u'Leila', u'married', u'man,', u'died', u'car', u'accident,', u'Leila', u'nervous', u'breakdown.', u'Ana', u'Christian', u'file', u'well.', u'answer,', u'demands', u\"Christian's\", u'room,', u'Ana', u'picture', u'birth', u'mother,', u'slightly', u'resembles', u'Ana.', u'Christian', u'mentions', u'crack', u'addict', u'died', u'overdose', u'age', u'4', u'found', u'days', u'stayed', u'body.', u'stepmother', u'Grace', u'(Marcia', u'Gay', u'Harden)', u'hospital,', u'boy.', u'Christian', u'invites', u'Ana', u'ball.', u'salon', u'preparation', u'runs', u'Elena', u'Lincoln', u'(Kim', u'Basinger),', u'woman', u'Christian', u'BDSM', u'lifestyle.', u'Ana', u'none', u'happy', u'Elena', u\"Christian's\", u'dominant.', u'Christian', u'assures', u'Ana', u'Elena', u'business', u'partner', u'co-own', u'salon.', u'ease', u\"Ana's\", u'mind.', u'ball,', u'Christian', u'Ben', u'Wa', u'balls', u'Ana', u'vagina', u'consistent', u'pleasure', u'party.', u'masquerade', u'ball.', u'Grace', u\"Christian's\", u'adoptive', u'sister', u'Mia', u'(Rita', u'Ora).', u'sit', u'bidding', u'luxury', u'vacation,', u'Ana', u'wins', u'bids', u'$24,000', u'Christian', u'transferred', u'bank', u'account.', u'bathroom,', u'Elena', u'approaches', u'Ana', u'urges', u'Christian', u'hurt.', u'Ana', u'Elena', u'alone.', u'parking', u'garage', u\"Christian's\", u'Ana', u\"Ana's\", u'car', u'vandalized.', u'Ana', u'Christian', u'getaway', u\"Christian's\", u'boat,', u'named', u'Grace.', u'work,', u'Jack', u'cold', u'Ana', u'learning', u'Christian', u'boyfriend.', u'meeting', u'York', u'publishers,', u'plus', u'assistant', u'Jack', u'seduce', u'Ana', u'office', u'predator.', u'Ana', u'kicks', u'Jack', u'groin', u'runs', u'building.', u'Christian', u'Ana', u'runs', u'arms', u'telling', u'Jack', u'tried', u'do.', u'Christian', u'Jack', u'fired.', u'Jack', u'gone,', u'Ana', u'temporary', u'position', u'job', u'acting', u'editor.', u'attends', u'meeting', u'higher-ups', u'offers', u'suggestion', u'reach', u'broader', u'demographic', u'instead', u'publishing', u'established', u'readers.', u'Christian', u'Ana', u'move', u'her,', u'agrees.', u'pick', u\"Ana's\", u'stuff', u'place,', u'Leila', u'there,', u'stalking', u'Ana', u'Christian.', u'Leila', u'pulls', u'gun.', u'Ana', u'placate', u'Christian', u'her.', u'Christian', u'bodyguard', u'Taylor', u'(Max', u'Martini)', u'Leila', u'fired', u'shot', u'wall.', u'Christian', u'Leila', u'knees,', u'immediately', u'obeys.', u'Ana', u'Christian', u\"can't\", u'dominant,', u'house', u'hours.', u'Meanwhile,', u'Leila', u'psych', u'ward', u'Ana', u'Christian', u'pissed', u'Ana', u'explains', u'feelings', u'dominance.', u'submissive', u'Ana', u'knees', u\"won't\", u'Ana', u'sex.', u'Christian', u'nightmare', u'Ana', u'awake.', u'comfort', u'bed.', u'Ana', u'marry', u\"doesn't\", u'answer', u'consider.', u'Christian', u'business', u'partner', u'trip', u'Portland.', u'trip,', u\"helicopter's\", u'engine', u'breaks', u'down,', u'causing', u'crash', u'forest.', u'Ana', u'hears', u'drinks', u'Kate', u'(Eloise', u'Mumford),', u'Elliott', u'(Luke', u'Grimes),', u'Jose.', u'Ana', u'waits', u\"Christian's\", u'reported', u'Christian', u'found,', u'walks', u'apartment.', u'embraces', u'Ana', u'Mia', u\"Christian's\", u'birthday', u'coming', u'failed', u'mention.', u'Ana', u'keychain', u'\"Yes!\"', u'back,', u'accepted', u'proposal.', u'Christian', u'elated.', u'couple', u'attend', u'birthday', u'Christian.', u'announces', u\"Ana's\", u'engagement', u'party.', u'Elena', u'Ana', u'accuses', u\"Christian's\", u'money', u'actually', u'loving', u'Ana', u'throws', u'drink', u\"Elena's\", u'face.', u'Christian', u'leave.', u'Grace', u'overhears', u'confrontation', u'slaps', u'Elena', u'demanding', u'house.', u'Christian', u'Ana', u'nearby', u'boathouse', u'proposes', u'actual', u'engagement', u'ring.', u'accepts,', u'fireworks', u'pop.', u'couple', u\"Christian's\", u'fireworks', u'Meanwhile,', u'lake,', u'Jack', u'fireworks', u'worn', u'out.', u'holds', u'picture', u'Grey', u'burns', u\"Christian's\", u'cigarette.', u'Note:', u'credits,', u'brief', u'teaser', u'\"Fifty', u'Shades', u'Freed\",', u'Ana', u'Christian', u'married,', u'plus', u'promise', u'kinky', u'sex.']\n"
     ]
    }
   ],
   "source": [
    "#movies and stopword files\n",
    "movie = sc.textFile(\"file:///home/jovyan/work/the-lego-batman-movie.txt\")\n",
    "movie2 = sc.textFile(\"file:///home/jovyan/work/fifty-shades-darker.txt\")\n",
    "stop= sc.textFile(\"file:///home/jovyan/work/stopwords.txt\")\n",
    "\n",
    "# movie rdds by words\n",
    "movieWords = movie.flatMap(lambda line: line.split(\" \"))\n",
    "movieWords2 = movie2.flatMap(lambda line: line.split(\" \"))\n",
    "\n",
    "#stopwords list\n",
    "stopWordsList = stop.flatMap(lambda line: line.split(\" \")).collect()\n",
    "MovieList = movieWords.collect()\n",
    "MovieList2 = movieWords2.collect()\n",
    "\n",
    "# movie unique word count considering:\n",
    "# \"The\" and \"the\" as same word, same for any others\n",
    "# Considered only words that are not included in the stopwords list\n",
    "movieWordsUnique = movieWords.filter(lambda word: word.lower() not in stopWordsList and word.lower() not in MovieList2)\n",
    "movieWordsUnique2 = movieWords2.filter(lambda word: word.lower() not in stopWordsList and word.lower() not in MovieList)\n",
    "\n",
    "\n",
    "print movieWordsUnique.collect()\n",
    "print \"------------------------------------------------------------------------------------------------------------------------\"\n",
    "print movieWordsUnique2.collect()\n",
    "\n"
   ]
  },
  {
   "cell_type": "markdown",
   "metadata": {},
   "source": [
    "Common words to the 2 files"
   ]
  },
  {
   "cell_type": "code",
   "execution_count": 8,
   "metadata": {
    "collapsed": false
   },
   "outputs": [
    {
     "name": "stdout",
     "output_type": "stream",
     "text": [
      "[u'friend', u'set', u'Man,', u'tries', u'watch', u'reminds', u'him,', u'looks', u'returns', u'time', u'again.', u'family.', u'reminds', u'goes', u'watches', u'news', u'sent', u'watching', u'approached', u'family.', u'him,', u'care', u'goes', u'terms.', u'up,', u'suspicious', u'suspicious', u'tells', u'it.', u'tries', u'tells', u'time', u'join', u'it.', u'goes', u'arrive', u'goes', u'party', u'leaves', u'it.', u'head', u'confronts', u'met', u'meet', u'tells', u'streets', u'agrees', u'join', u'help.', u'romantic', u'start', u'leading', u'outside', u'leave', u'join', u'him.', u'takes', u'him.', u'comes', u'meaning', u'takes', u'home,', u'it.', u'takes', u'sends', u'care', u'him.', u'again.', u'sends', u'sent', u'them.', u'sent', u'goes', u'break', u\"It's\", u'help.', u'together.', u'tells', u'cares', u'decides', u'head', u'start', u'them.', u'family.', u'family', u'written']\n"
     ]
    }
   ],
   "source": [
    "#movies and stopword files\n",
    "movie = sc.textFile(\"file:///home/jovyan/work/the-lego-batman-movie.txt\")\n",
    "movie2 = sc.textFile(\"file:///home/jovyan/work/fifty-shades-darker.txt\")\n",
    "stop= sc.textFile(\"file:///home/jovyan/work/stopwords.txt\")\n",
    "\n",
    "# movie rdds by words\n",
    "movieWords = movie.flatMap(lambda line: line.split(\" \"))\n",
    "movieWords2 = movie2.flatMap(lambda line: line.split(\" \"))\n",
    "\n",
    "#stopwords list\n",
    "stopWordsList = stop.flatMap(lambda line: line.split(\" \")).collect()\n",
    "MovieList2 = movieWords2.collect()\n",
    "\n",
    "# movie word count considering words that are in both movies\n",
    "# \"The\" and \"the\" as same word, same for any others\n",
    "# Considered only words that are not included in the stopwords list\n",
    "movieWordsBoth = movieWords.filter(lambda word: word.lower() not in stopWordsList and word.lower() in MovieList2)\n",
    "\n",
    "print movieWordsBoth.collect()\n"
   ]
  },
  {
   "cell_type": "markdown",
   "metadata": {},
   "source": [
    "Word in both files with number of occurrences on each file"
   ]
  },
  {
   "cell_type": "code",
   "execution_count": 9,
   "metadata": {
    "collapsed": false
   },
   "outputs": [
    {
     "name": "stdout",
     "output_type": "stream",
     "text": [
      "[(u'kate', (1, 1)), (u'up,', (1, 1)), (u'sent', (3, 1)), (u'streets', (1, 1)), (u'approached', (1, 1)), (u'terms.', (1, 1)), (u'him,', (2, 1)), (u'goes', (5, 2)), (u'met', (1, 1)), (u'meet', (1, 1)), (u'leaves', (1, 1)), (u'family', (1, 2)), (u'join', (3, 1)), (u'arrive', (1, 1)), (u'tries', (2, 2)), (u'looks', (1, 1)), (u'outside', (1, 1)), (u'it.', (4, 1)), (u'leading', (1, 1)), (u'care', (2, 1)), (u'family.', (3, 1)), (u'returns', (1, 2)), (u'friend', (1, 1)), (u'meanwhile,', (1, 3)), (u'later,', (1, 1)), (u'suspicious', (2, 1)), (u'tells', (4, 2)), (u'agrees', (1, 1)), (u'written', (1, 1)), (u'watching', (1, 1)), (u'watch', (1, 1)), (u'set', (1, 1)), (u'decides', (1, 1)), (u'man,', (1, 1)), (u'news', (1, 2)), (u'comes', (1, 1)), (u'together.', (1, 1)), (u\"it's\", (1, 1)), (u'home,', (1, 4)), (u'watches', (1, 1)), (u'leave', (1, 3)), (u'help.', (2, 1)), (u'party', (1, 1)), (u'break', (1, 1)), (u'them.', (2, 1)), (u'him.', (3, 4)), (u'sends', (2, 1)), (u'confronts', (1, 1)), (u'takes', (3, 4)), (u'cares', (1, 1)), (u'start', (2, 2)), (u'head', (2, 1)), (u'reminds', (2, 1)), (u'romantic', (1, 1)), (u'again.', (2, 1)), (u'time', (2, 1)), (u'meaning', (1, 1))]\n"
     ]
    }
   ],
   "source": [
    "#movies and stopword files\n",
    "movie = sc.textFile(\"file:///home/jovyan/work/the-lego-batman-movie.txt\")\n",
    "movie2 = sc.textFile(\"file:///home/jovyan/work/fifty-shades-darker.txt\")\n",
    "stop= sc.textFile(\"file:///home/jovyan/work/stopwords.txt\")\n",
    "\n",
    "# movie rdds by words\n",
    "movieWords = movie.flatMap(lambda line: line.split(\" \"))\n",
    "movieWords2 = movie2.flatMap(lambda line: line.split(\" \"))\n",
    "\n",
    "#stopwords list\n",
    "MovieList2 = movieWords2.collect()\n",
    "\n",
    "# words in the 2 movies with word count on each of them in same RDD\n",
    "# \"The\" and \"the\" as same word, same for any others\n",
    "# Considered only words that are not included in the stopwords list\n",
    "movieWordsCount = movieWords.filter(lambda word: word.lower() not in stopWordsList).\\\n",
    "map(lambda word: (word.lower(), 1)).reduceByKey(lambda v1,v2:v1 +v2)\n",
    "\n",
    "movieWordsCount2 = movieWords2.filter(lambda word: word.lower() not in stopWordsList).\\\n",
    "map(lambda word: (word.lower(), 1)).reduceByKey(lambda v1,v2:v1 +v2)\n",
    "\n",
    "#put together the 2 movies RDDs\n",
    "movieWordsCountBoth = movieWordsCount.join(movieWordsCount2)\n",
    "\n",
    "print movieWordsCountBoth.collect()"
   ]
  },
  {
   "cell_type": "markdown",
   "metadata": {
    "collapsed": true
   },
   "source": [
    "5% random sample of the previus RDD"
   ]
  },
  {
   "cell_type": "code",
   "execution_count": 10,
   "metadata": {
    "collapsed": false
   },
   "outputs": [
    {
     "data": {
      "text/plain": [
       "[(u'romantic', (1, 1)), (u'join', (3, 1)), (u'approached', (1, 1))]"
      ]
     },
     "execution_count": 10,
     "metadata": {},
     "output_type": "execute_result"
    }
   ],
   "source": [
    "movieWordsCountBoth.takeSample(False, int(round(movieWordsCountBoth.count()*5.0/100.0)))"
   ]
  },
  {
   "cell_type": "code",
   "execution_count": null,
   "metadata": {
    "collapsed": true
   },
   "outputs": [],
   "source": []
  }
 ],
 "metadata": {
  "kernelspec": {
   "display_name": "Python 2",
   "language": "python",
   "name": "python2"
  },
  "language_info": {
   "codemirror_mode": {
    "name": "ipython",
    "version": 2
   },
   "file_extension": ".py",
   "mimetype": "text/x-python",
   "name": "python",
   "nbconvert_exporter": "python",
   "pygments_lexer": "ipython2",
   "version": "2.7.12"
  }
 },
 "nbformat": 4,
 "nbformat_minor": 2
}
