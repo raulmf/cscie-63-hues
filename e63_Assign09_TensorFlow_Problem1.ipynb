{
 "cells": [
  {
   "cell_type": "markdown",
   "metadata": {},
   "source": [
    "# Problem 1"
   ]
  },
  {
   "cell_type": "code",
   "execution_count": 13,
   "metadata": {
    "collapsed": false,
    "deletable": true,
    "editable": true
   },
   "outputs": [
    {
     "name": "stdout",
     "output_type": "stream",
     "text": [
      "Mean Square Error (MSE): 78.207180\n"
     ]
    }
   ],
   "source": [
    "import numpy as np\n",
    "import matplotlib.pyplot as plt\n",
    "import tensorflow as tf\n",
    "import xlrd\n",
    "\n",
    "DATA_FILE = 'Reduced_Car_Data.xlsx'\n",
    "\n",
    "# Step 1: read in data from the .xls file\n",
    "book = xlrd.open_workbook(DATA_FILE, encoding_override=\"utf-8\")\n",
    "sheet = book.sheet_by_index(0)\n",
    "\n",
    "#Train data vector\n",
    "train_data = np.asarray([sheet.row_values(i) for i in range(1, 86)])\n",
    "n_train_samples = len(train_data)\n",
    "\n",
    "#test data vector\n",
    "test_data = np.asarray([sheet.row_values(i) for i in range(86, 101)])\n",
    "\n",
    "\n",
    "# Step 2: create placeholders for input X1, X2, X3(displacement,horsepower and weight of fire) and label Y (gasoline consumption)\n",
    "X1 = tf.placeholder(tf.float32, name='displacement')\n",
    "X2 = tf.placeholder(tf.float32, name='horsepower')\n",
    "X3 = tf.placeholder(tf.float32, name='weight')\n",
    "Y = tf.placeholder(tf.float32, name='consumption')\n",
    "\n",
    "# Step 3: create weight and bias, initialized to 0\n",
    "u = tf.Variable(0.0, name='weights_displacement')\n",
    "v = tf.Variable(0.0, name='weights-horsepower')\n",
    "w = tf.Variable(0.0, name='weights_weight')\n",
    "b = tf.Variable(0.0, name='bias')\n",
    "\n",
    "# Step 4: build model to predict Y\n",
    "Y_predicted = X1 * u + X2 * v + X3 * w +  b \n",
    "\n",
    "# Step 5: use the square error as the loss function\n",
    "loss = tf.square(Y - Y_predicted, name='loss')\n",
    "\n",
    "# Step 6: using gradient descent with learning rate of 0.01 to minimize loss\n",
    "optimizer = tf.train.GradientDescentOptimizer(learning_rate=0.00000001).minimize(loss)\n",
    "\n",
    "with tf.Session() as sess:\n",
    "    # Step 7: initialize the necessary variables, in this case, w and b\n",
    "    sess.run(tf.global_variables_initializer()) \n",
    "    writer = tf.summary.FileWriter('./linear_reg', sess.graph)\n",
    "\n",
    "    # Step 8: train the model\n",
    "    for i in range(100): # train the model 100 times\n",
    "        total_loss = 0\n",
    "        for x1, x2, x3, y in train_data:\n",
    "            # Session runs train_op and fetch values of loss\n",
    "            _, l = sess.run([optimizer, loss], feed_dict={X1: x1, X2: x2, X3: x3, Y:y}) \n",
    "            total_loss += l\n",
    "        #print 'Epoch {0}: {1}'.format(i, total_loss/n_train_samples)\n",
    "\n",
    "    # close the writer when you're done using it\n",
    "    writer.close() \n",
    "\n",
    "    # Step 9: output the values of u,v w and b\n",
    "    u_value, v_value, w_value, b_value = sess.run([u, v, w, b])\n",
    "    \n",
    "#Step 10: Plot predicted value versus actual test data\n",
    "X1_TEST, X2_TEST, X3_TEST, Y_TEST = test_data.T[0], test_data.T[1], test_data.T[2], test_data.T[3]\n",
    "\n",
    "\n",
    "Y_MODEL = [X1_TEST * u_value + X2_TEST * v_value + X3_TEST * w_value + b_value]\n",
    "\n",
    "\n",
    "#Step 11: Accuracy measure calculation\n",
    "mse_test = ((Y_TEST-Y_MODEL) ** 2).mean()\n",
    "\n",
    "print \"Mean Square Error (MSE): %f\" %mse_test"
   ]
  },
  {
   "cell_type": "code",
   "execution_count": null,
   "metadata": {
    "collapsed": true,
    "deletable": true,
    "editable": true
   },
   "outputs": [],
   "source": []
  },
  {
   "cell_type": "code",
   "execution_count": null,
   "metadata": {
    "collapsed": true,
    "deletable": true,
    "editable": true
   },
   "outputs": [],
   "source": []
  }
 ],
 "metadata": {
  "kernelspec": {
   "display_name": "Python 2",
   "language": "python",
   "name": "python2"
  },
  "language_info": {
   "codemirror_mode": {
    "name": "ipython",
    "version": 2
   },
   "file_extension": ".py",
   "mimetype": "text/x-python",
   "name": "python",
   "nbconvert_exporter": "python",
   "pygments_lexer": "ipython2",
   "version": "2.7.12+"
  }
 },
 "nbformat": 4,
 "nbformat_minor": 2
}
